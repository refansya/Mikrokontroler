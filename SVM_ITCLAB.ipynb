{
 "cells": [
  {
   "attachments": {},
   "cell_type": "markdown",
   "metadata": {},
   "source": [
    "# Import Libraries"
   ]
  },
  {
   "cell_type": "code",
   "execution_count": 1,
   "metadata": {
    "ExecuteTime": {
     "end_time": "2023-06-10T04:18:53.619663Z",
     "start_time": "2023-06-10T04:18:53.608499400Z"
    }
   },
   "outputs": [
    {
     "name": "stdout",
     "output_type": "stream",
     "text": [
      "WARNING:tensorflow:From C:\\Users\\INDY\\AppData\\Local\\Packages\\PythonSoftwareFoundation.Python.3.11_qbz5n2kfra8p0\\LocalCache\\local-packages\\Python311\\site-packages\\keras\\src\\losses.py:2976: The name tf.losses.sparse_softmax_cross_entropy is deprecated. Please use tf.compat.v1.losses.sparse_softmax_cross_entropy instead.\n",
      "\n"
     ]
    },
    {
     "name": "stderr",
     "output_type": "stream",
     "text": [
      "C:\\Users\\INDY\\AppData\\Local\\Packages\\PythonSoftwareFoundation.Python.3.11_qbz5n2kfra8p0\\LocalCache\\local-packages\\Python311\\site-packages\\tqdm\\auto.py:21: TqdmWarning: IProgress not found. Please update jupyter and ipywidgets. See https://ipywidgets.readthedocs.io/en/stable/user_install.html\n",
      "  from .autonotebook import tqdm as notebook_tqdm\n"
     ]
    }
   ],
   "source": [
    "import pandas as pd\n",
    "import matplotlib.pyplot as plt\n",
    "import numpy as np\n",
    "import random\n",
    "import time\n",
    "from tqdm import tqdm # Progress bar\n",
    "\n",
    "# For scaling, feature selection\n",
    "from sklearn.preprocessing import MinMaxScaler\n",
    "from sklearn.feature_selection import SelectKBest, f_regression\n",
    "from sklearn.model_selection import train_test_split \n",
    "\n",
    "from keras.models import Sequential\n",
    "from keras.layers import Dense\n",
    "\n",
    "# For TCLab\n",
    "import tclab\n",
    "\n",
    "# For itclab\n",
    "import itclab"
   ]
  },
  {
   "attachments": {},
   "cell_type": "markdown",
   "metadata": {},
   "source": [
    "# Initialize TCLab Emulator with 100x speedup for data collection"
   ]
  },
  {
   "cell_type": "code",
   "execution_count": 2,
   "metadata": {
    "ExecuteTime": {
     "end_time": "2023-06-10T04:18:54.777968200Z",
     "start_time": "2023-06-10T04:18:54.777445200Z"
    }
   },
   "outputs": [],
   "source": [
    "speedup = 100\n",
    "TCLab = tclab.setup(connected=False, speedup = speedup)"
   ]
  },
  {
   "attachments": {},
   "cell_type": "markdown",
   "metadata": {},
   "source": [
    "### PID controller"
   ]
  },
  {
   "cell_type": "code",
   "execution_count": 3,
   "metadata": {
    "ExecuteTime": {
     "end_time": "2023-06-10T04:18:55.863871500Z",
     "start_time": "2023-06-10T04:18:55.861528500Z"
    }
   },
   "outputs": [],
   "source": [
    "# PID Parameters\n",
    "Kc   = 6.0\n",
    "tauI = 75.0 # sec\n",
    "tauD = 0.0  # sec\n",
    "\n",
    "#-----------------------------------------\n",
    "# PID Controller\n",
    "#-----------------------------------------\n",
    "\n",
    "def pid(sp,pv,pv_last,ierr,dt):\n",
    "    # PID coefficients in terms of tuning parameters\n",
    "    KP = Kc\n",
    "    KI = Kc / tauI\n",
    "    KD = Kc * tauD\n",
    "    \n",
    "    # ubias for controller (initial heater)\n",
    "    op0 = 0 \n",
    "    \n",
    "    # upper and lower bounds on heater level\n",
    "    ophi = 100\n",
    "    oplo = 0\n",
    "    \n",
    "    # calculate the error\n",
    "    error = sp - pv\n",
    "    \n",
    "    # calculate the integral error\n",
    "    ierr = ierr + KI * error * dt\n",
    "    \n",
    "    # calculate the measurement derivative\n",
    "    if dt>=1e-8:\n",
    "        dpv = (pv - pv_last) / dt\n",
    "    else:\n",
    "        dpv = 0.0;\n",
    "    \n",
    "    # calculate the PID output\n",
    "    P = KP * error\n",
    "    I = ierr\n",
    "    D = -KD * dpv\n",
    "    op = op0 + P + I + D\n",
    "    \n",
    "    # implement anti-reset windup\n",
    "    if op < oplo or op > ophi:\n",
    "        I = I - KI * error * dt\n",
    "        # clip output\n",
    "        op = max(oplo,min(ophi,op))\n",
    "        \n",
    "    # return the controller output and PID terms\n",
    "    return [op,P,I,D]"
   ]
  },
  {
   "attachments": {},
   "cell_type": "markdown",
   "metadata": {},
   "source": [
    "### Generate data for training SVM"
   ]
  },
  {
   "cell_type": "code",
   "execution_count": 4,
   "metadata": {
    "ExecuteTime": {
     "end_time": "2023-06-10T05:57:40.147436300Z",
     "start_time": "2023-06-10T05:57:39.998237200Z"
    },
    "scrolled": false
   },
   "outputs": [
    {
     "name": "stdout",
     "output_type": "stream",
     "text": [
      "TCLab version 1.0.0\n",
      "Simulated TCLab\n",
      "TCLab Model disconnected successfully.\n"
     ]
    },
    {
     "data": {
      "image/png": "[encoded data removed]",
      "text/plain": [
       "<Figure size 640x480 with 1 Axes>"
      ]
     },
     "metadata": {},
     "output_type": "display_data"
    }
   ],
   "source": [
    "##### Set up run parameters #####\n",
    "# Run time in minutes\n",
    "run_time = 90.0\n",
    "\n",
    "# Number of cycles\n",
    "loops = int(60.0*run_time)\n",
    "\n",
    "# arrays for storing data\n",
    "T1 = np.zeros(loops) # measured T (degC)\n",
    "Q1 = np.zeros(loops) # Heater values\n",
    "tm = np.zeros(loops) # Time\n",
    "\n",
    "# Temperature set point (degC)\n",
    "with TCLab() as lab:\n",
    "    Tsp1 = np.ones(loops) * lab.T1\n",
    "\n",
    "# vary temperature setpoint\n",
    "end = 30 # leave 1st 30 seconds of temp set point as room temp\n",
    "while end <= loops:\n",
    "    start = end\n",
    "    # keep new temp set point value for anywhere from 4 to 10 min\n",
    "    end += random.randint(240,600)\n",
    "    Tsp1[start:end] = random.randint(30,70)\n",
    "\n",
    "# Plot\n",
    "plt.plot(Tsp1)\n",
    "plt.xlabel('Time',size=14)\n",
    "plt.ylabel(r'Temp SP ($^oC$)',size=14)\n",
    "plt.xticks(size=12)\n",
    "plt.yticks(size=12)\n",
    "plt.savefig('SP_profile.png');"
   ]
  },
  {
   "attachments": {},
   "cell_type": "markdown",
   "metadata": {},
   "source": [
    "### Data Collection"
   ]
  },
  {
   "cell_type": "code",
   "execution_count": 5,
   "metadata": {
    "ExecuteTime": {
     "end_time": "2023-06-10T04:20:34.123104800Z",
     "start_time": "2023-06-10T04:19:02.764391600Z"
    }
   },
   "outputs": [
    {
     "name": "stdout",
     "output_type": "stream",
     "text": [
      "TCLab version 1.0.0\n",
      "Simulated TCLab\n",
      "Temperature 1: 20.95 °C\n",
      "Temperature 2: 20.95 °C\n",
      "   0.0  20.95  20.95   0.00   0.00   0.00  -0.00   0.00\n",
      " 100.1  42.00  37.71  60.99  25.75  35.24  -0.00 943.77\n",
      " 201.8  42.00  42.54  32.84  -3.26  36.10  -0.00 1049.80\n",
      " 301.1  42.00  41.90  35.87   0.61  35.26  -0.00 1070.95\n",
      " 401.1  42.00  42.22  34.00  -1.33  35.32  -0.00 1084.54\n",
      " 506.0  39.00  38.68  29.11   1.94  27.16  -0.00 1197.06\n",
      " 608.1  39.00  39.00  30.05   0.01  30.04  -0.00 1232.36\n",
      " 708.1  39.00  39.00  30.11   0.01  30.10  -0.00 1233.17\n",
      " 808.1  49.00  43.19  86.53  34.87  51.66  -0.00 1504.67\n",
      " 908.0  49.00  50.60  43.13  -9.61  52.74  -0.00 1689.14\n",
      "1008.1  49.00  48.99  47.11   0.06  47.05  -0.00 1760.42\n",
      "1108.1  45.00  46.09  29.49  -6.53  36.03  -0.00 1899.19\n",
      "1208.0  45.00  44.48  41.98   3.14  38.84  -0.00 1953.43\n",
      "1308.0  45.00  45.12  39.51  -0.73  40.24  -0.00 1976.25\n",
      "1408.0  45.00  44.80  41.47   1.20  40.27  -0.00 1991.50\n",
      "1508.1  45.00  45.12  39.41  -0.73  40.15  -0.00 2006.28\n",
      "1608.1  33.00  40.61   0.00 -45.66  40.31   0.00 2476.16\n",
      "1708.1  33.00  33.20  20.54  -1.18  21.73   0.00 2772.06\n",
      "1808.0  33.00  33.20  19.41  -1.18  20.59  -0.00 2791.28\n",
      "1908.1  33.00  32.87  21.19   0.75  20.44  -0.00 2807.04\n",
      "2008.0  51.00  34.49 100.00  99.08  20.32  -0.00 3065.60\n",
      "2111.0  51.00  51.25  51.39  -1.47  52.86  -0.00 3712.39\n",
      "2211.1  51.00  50.92  50.48   0.46  50.02  -0.00 3749.45\n",
      "2311.1  51.00  50.92  50.94   0.46  50.48  -0.00 3758.13\n",
      "2411.0  56.00  51.57  82.58  26.59  55.99  -0.00 3839.86\n",
      "2511.1  56.00  56.72  58.28  -4.35  62.63  -0.00 3979.74\n",
      "2611.1  56.00  56.08  58.43  -0.48  58.91  -0.00 4026.11\n",
      "2711.1  56.00  56.08  58.02  -0.48  58.50  -0.00 4035.59\n",
      "2811.1  56.00  56.08  58.09  -0.48  58.58  -0.00 4048.14\n",
      "2911.1  56.00  56.08  58.02  -0.48  58.50  -0.00 4059.72\n",
      "3011.1  69.00  66.39  88.50  15.64  72.87  -0.00 4855.31\n",
      "3111.1  69.00  68.97  79.60   0.17  79.43  -0.00 4937.37\n",
      "3211.1  69.00  68.97  80.11   0.17  79.94  -0.00 4943.70\n",
      "3311.1  52.00  52.53  44.66  -3.21  47.87  -0.00 5733.69\n",
      "3411.1  52.00  51.89  52.55   0.66  51.89  -0.00 5787.82\n",
      "3511.1  52.00  51.89  52.75   0.66  52.10   0.00 5802.74\n",
      "3611.1  51.00  51.89  45.28  -5.34  50.63  -0.00 5832.52\n",
      "3711.1  51.00  50.92  49.84   0.46  49.38  -0.00 5857.14\n",
      "3811.1  51.00  50.92  50.69   0.46  50.23  -0.00 5867.70\n",
      "3911.1  37.00  45.77   0.00 -52.60  50.54  -0.00 6406.46\n",
      "4013.0  37.00  37.06  27.29  -0.39  27.67  -0.00 6703.62\n",
      "4113.0  37.00  37.06  26.75  -0.39  27.13  -0.00 6710.40\n",
      "4214.0  48.00  45.44  72.92  15.33  57.59  -0.00 7089.62\n",
      "4314.0  48.00  49.31  41.36  -7.87  49.24  -0.00 7235.18\n",
      "4414.0  48.00  48.02  45.33  -0.14  45.47  -0.00 7282.25\n",
      "4515.1  48.00  48.02  45.15  -0.14  45.29  -0.00 7284.52\n",
      "4615.1  48.00  48.02  45.04  -0.14  45.18  -0.00 7287.62\n",
      "4715.0  67.00  53.82 100.00  79.06  45.16  -0.00 8054.67\n",
      "4815.0  67.00  65.43  81.62   9.44  72.18  -0.00 8656.11\n",
      "4915.0  67.00  66.72  77.96   1.70  76.25  -0.00 8707.36\n",
      "5015.1  61.00  64.78  42.39 -22.69  65.09   0.00 8858.58\n",
      "5115.0  61.00  59.95  69.63   6.31  63.32  -0.00 8979.21\n",
      "5215.0  61.00  60.91  67.33   0.51  66.82  -0.00 9022.87\n",
      "5315.0  49.00  50.60  31.35  -9.61  40.96  -0.00 9513.73\n",
      "TCLab Model disconnected successfully.\n"
     ]
    }
   ],
   "source": [
    "# Data collection\n",
    "with TCLab() as lab:\n",
    "    # Find current T1, T2\n",
    "    print('Temperature 1: {0:0.2f} °C'.format(lab.T1))\n",
    "    print('Temperature 2: {0:0.2f} °C'.format(lab.T2))\n",
    "\n",
    "    # Integral error\n",
    "    ierr = 0.0\n",
    "    # Integral absolute error\n",
    "    iae = 0.0\n",
    "    \n",
    "    prev_time = 0\n",
    "    for i,t in enumerate(tclab.clock(loops-1)):\n",
    "        tm[i] = t\n",
    "        dt = t - prev_time\n",
    "        \n",
    "        # Read temperatures in Kelvin \n",
    "        T1[i] = lab.T1\n",
    "\n",
    "        # Integral absolute error\n",
    "        iae += np.abs(Tsp1[i]-T1[i])\n",
    "\n",
    "        # Calculate PID output\n",
    "        [Q1[i],P,ierr,D] = pid(Tsp1[i],T1[i],T1[i-1],ierr,dt)\n",
    "        \n",
    "        # Calculate MPC output (optionally replace PID)\n",
    "\n",
    "        # Write heater output (0-100)\n",
    "        lab.Q1(Q1[i])\n",
    "\n",
    "        # Print line of data\n",
    "        if i%100==0:\n",
    "            print(('{:6.1f} {:6.2f} {:6.2f} ' + \\\n",
    "                  '{:6.2f} {:6.2f} {:6.2f} {:6.2f} {:6.2f}').format( \\\n",
    "                      tm[i],Tsp1[i],T1[i], \\\n",
    "                      Q1[i],P,ierr,D,iae))\n",
    "        prev_time = t"
   ]
  },
  {
   "cell_type": "code",
   "execution_count": 6,
   "metadata": {
    "ExecuteTime": {
     "end_time": "2023-06-10T05:54:07.653310200Z",
     "start_time": "2023-06-10T05:54:07.403735200Z"
    },
    "scrolled": false
   },
   "outputs": [
    {
     "data": {
      "image/png": "[encoded data removed]",
      "text/plain": [
       "<Figure size 640x480 with 1 Axes>"
      ]
     },
     "metadata": {},
     "output_type": "display_data"
    }
   ],
   "source": [
    "df = pd.DataFrame()\n",
    "df['Q1'] = Q1[:i]\n",
    "df['Q1'].fillna(0,inplace=True)\n",
    "df['T1'] = T1[:i]\n",
    "df['Tsp'] = Tsp1[:i]\n",
    "\n",
    "# Plot\n",
    "plt.plot(df['Q1'],'b-',label='$Q_1$ (%)')\n",
    "plt.plot(df['T1'],'r-',label='$T_1$ $(^oC)$')\n",
    "plt.plot(df['Tsp'],'k-',label='SP $(^oC)$')\n",
    "plt.legend()\n",
    "plt.savefig('PID_train.png');"
   ]
  },
  {
   "attachments": {},
   "cell_type": "markdown",
   "metadata": {},
   "source": [
    "## Feature selection"
   ]
  },
  {
   "cell_type": "code",
   "execution_count": 7,
   "metadata": {
    "ExecuteTime": {
     "end_time": "2023-06-10T04:20:34.613154Z",
     "start_time": "2023-06-10T04:20:34.609218800Z"
    }
   },
   "outputs": [],
   "source": [
    "# Create new feature: setpoint error\n",
    "df['err'] = df['Tsp'] - df['T1']\n",
    "\n"
   ]
  },
  {
   "cell_type": "code",
   "execution_count": 8,
   "metadata": {
    "ExecuteTime": {
     "end_time": "2023-06-10T04:20:34.640882200Z",
     "start_time": "2023-06-10T04:20:34.613154Z"
    }
   },
   "outputs": [],
   "source": [
    "df.to_csv('PID_train_data.csv',index=False)"
   ]
  },
  {
   "attachments": {},
   "cell_type": "markdown",
   "metadata": {},
   "source": [
    "# Load dataset, Scale data, Split into training and test sets"
   ]
  },
  {
   "cell_type": "code",
   "execution_count": 9,
   "metadata": {
    "ExecuteTime": {
     "end_time": "2023-06-10T04:20:34.704377400Z",
     "start_time": "2023-06-10T04:20:34.640882200Z"
    }
   },
   "outputs": [],
   "source": [
    "df = pd.read_csv('PID_train_data.csv')"
   ]
  },
  {
   "cell_type": "code",
   "execution_count": 17,
   "metadata": {
    "ExecuteTime": {
     "end_time": "2023-06-10T04:25:16.663898700Z",
     "start_time": "2023-06-10T04:25:16.632103800Z"
    }
   },
   "outputs": [],
   "source": [
    "X = df[['Tsp','err']].values\n",
    "y = df[['Q1']].values\n",
    "# Scale data\n",
    "s_x = MinMaxScaler()\n",
    "Xs = s_x.fit_transform(X)\n",
    "\n",
    "s_y = MinMaxScaler()\n",
    "ys = s_y.fit_transform(y)\n",
    "\n",
    "# Split into train and test\n",
    "Xtrain, Xtest, ytrain, ytest = train_test_split(Xs,ys,test_size=0.15,shuffle=False)"
   ]
  },
  {
   "attachments": {},
   "cell_type": "markdown",
   "metadata": {},
   "source": [
    "# Model Creation"
   ]
  },
  {
   "attachments": {},
   "cell_type": "markdown",
   "metadata": {},
   "source": [
    "### SVM Model"
   ]
  },
  {
   "cell_type": "code",
   "execution_count": 19,
   "metadata": {
    "ExecuteTime": {
     "end_time": "2023-06-10T04:25:11.406461200Z",
     "start_time": "2023-06-10T04:20:34.673033700Z"
    },
    "scrolled": true
   },
   "outputs": [
    {
     "name": "stderr",
     "output_type": "stream",
     "text": [
      "C:\\Users\\INDY\\AppData\\Local\\Packages\\PythonSoftwareFoundation.Python.3.11_qbz5n2kfra8p0\\LocalCache\\local-packages\\Python311\\site-packages\\sklearn\\utils\\validation.py:1143: DataConversionWarning: A column-vector y was passed when a 1d array was expected. Please change the shape of y to (n_samples, ), for example using ravel().\n",
      "  y = column_or_1d(y, warn=True)\n"
     ]
    },
    {
     "data": {
      "text/html": [
       "<style>#sk-container-id-2 {color: black;background-color: white;}#sk-container-id-2 pre{padding: 0;}#sk-container-id-2 div.sk-toggleable {background-color: white;}#sk-container-id-2 label.sk-toggleable__label {cursor: pointer;display: block;width: 100%;margin-bottom: 0;padding: 0.3em;box-sizing: border-box;text-align: center;}#sk-container-id-2 label.sk-toggleable__label-arrow:before {content: \"▸\";float: left;margin-right: 0.25em;color: #696969;}#sk-container-id-2 label.sk-toggleable__label-arrow:hover:before {color: black;}#sk-container-id-2 div.sk-estimator:hover label.sk-toggleable__label-arrow:before {color: black;}#sk-container-id-2 div.sk-toggleable__content {max-height: 0;max-width: 0;overflow: hidden;text-align: left;background-color: #f0f8ff;}#sk-container-id-2 div.sk-toggleable__content pre {margin: 0.2em;color: black;border-radius: 0.25em;background-color: #f0f8ff;}#sk-container-id-2 input.sk-toggleable__control:checked~div.sk-toggleable__content {max-height: 200px;max-width: 100%;overflow: auto;}#sk-container-id-2 input.sk-toggleable__control:checked~label.sk-toggleable__label-arrow:before {content: \"▾\";}#sk-container-id-2 div.sk-estimator input.sk-toggleable__control:checked~label.sk-toggleable__label {background-color: #d4ebff;}#sk-container-id-2 div.sk-label input.sk-toggleable__control:checked~label.sk-toggleable__label {background-color: #d4ebff;}#sk-container-id-2 input.sk-hidden--visually {border: 0;clip: rect(1px 1px 1px 1px);clip: rect(1px, 1px, 1px, 1px);height: 1px;margin: -1px;overflow: hidden;padding: 0;position: absolute;width: 1px;}#sk-container-id-2 div.sk-estimator {font-family: monospace;background-color: #f0f8ff;border: 1px dotted black;border-radius: 0.25em;box-sizing: border-box;margin-bottom: 0.5em;}#sk-container-id-2 div.sk-estimator:hover {background-color: #d4ebff;}#sk-container-id-2 div.sk-parallel-item::after {content: \"\";width: 100%;border-bottom: 1px solid gray;flex-grow: 1;}#sk-container-id-2 div.sk-label:hover label.sk-toggleable__label {background-color: #d4ebff;}#sk-container-id-2 div.sk-serial::before {content: \"\";position: absolute;border-left: 1px solid gray;box-sizing: border-box;top: 0;bottom: 0;left: 50%;z-index: 0;}#sk-container-id-2 div.sk-serial {display: flex;flex-direction: column;align-items: center;background-color: white;padding-right: 0.2em;padding-left: 0.2em;position: relative;}#sk-container-id-2 div.sk-item {position: relative;z-index: 1;}#sk-container-id-2 div.sk-parallel {display: flex;align-items: stretch;justify-content: center;background-color: white;position: relative;}#sk-container-id-2 div.sk-item::before, #sk-container-id-2 div.sk-parallel-item::before {content: \"\";position: absolute;border-left: 1px solid gray;box-sizing: border-box;top: 0;bottom: 0;left: 50%;z-index: -1;}#sk-container-id-2 div.sk-parallel-item {display: flex;flex-direction: column;z-index: 1;position: relative;background-color: white;}#sk-container-id-2 div.sk-parallel-item:first-child::after {align-self: flex-end;width: 50%;}#sk-container-id-2 div.sk-parallel-item:last-child::after {align-self: flex-start;width: 50%;}#sk-container-id-2 div.sk-parallel-item:only-child::after {width: 0;}#sk-container-id-2 div.sk-dashed-wrapped {border: 1px dashed gray;margin: 0 0.4em 0.5em 0.4em;box-sizing: border-box;padding-bottom: 0.4em;background-color: white;}#sk-container-id-2 div.sk-label label {font-family: monospace;font-weight: bold;display: inline-block;line-height: 1.2em;}#sk-container-id-2 div.sk-label-container {text-align: center;}#sk-container-id-2 div.sk-container {/* jupyter's `normalize.less` sets `[hidden] { display: none; }` but bootstrap.min.css set `[hidden] { display: none !important; }` so we also need the `!important` here to be able to override the default hidden behavior on the sphinx rendered scikit-learn.org. See: https://github.com/scikit-learn/scikit-learn/issues/21755 */display: inline-block !important;position: relative;}#sk-container-id-2 div.sk-text-repr-fallback {display: none;}</style><div id=\"sk-container-id-2\" class=\"sk-top-container\"><div class=\"sk-text-repr-fallback\"><pre>SVR(C=100, gamma=0.1)</pre><b>In a Jupyter environment, please rerun this cell to show the HTML representation or trust the notebook. <br />On GitHub, the HTML representation is unable to render, please try loading this page with nbviewer.org.</b></div><div class=\"sk-container\" hidden><div class=\"sk-item\"><div class=\"sk-estimator sk-toggleable\"><input class=\"sk-toggleable__control sk-hidden--visually\" id=\"sk-estimator-id-2\" type=\"checkbox\" checked><label for=\"sk-estimator-id-2\" class=\"sk-toggleable__label sk-toggleable__label-arrow\">SVR</label><div class=\"sk-toggleable__content\"><pre>SVR(C=100, gamma=0.1)</pre></div></div></div></div></div>"
      ],
      "text/plain": [
       "SVR(C=100, gamma=0.1)"
      ]
     },
     "execution_count": 19,
     "metadata": {},
     "output_type": "execute_result"
    }
   ],
   "source": [
    "# import svm regression\n",
    "from sklearn.svm import SVR\n",
    "\n",
    "model = SVR(kernel='rbf', C=100, gamma=0.1, epsilon=.1)\n",
    "model.fit(Xtrain,ytrain)"
   ]
  },
  {
   "attachments": {},
   "cell_type": "markdown",
   "metadata": {},
   "source": [
    "### Deep Learning Model"
   ]
  },
  {
   "cell_type": "code",
   "execution_count": 20,
   "metadata": {
    "ExecuteTime": {
     "end_time": "2023-06-10T04:04:49.777738600Z",
     "start_time": "2023-06-10T04:04:49.730121700Z"
    }
   },
   "outputs": [
    {
     "name": "stdout",
     "output_type": "stream",
     "text": [
      "WARNING:tensorflow:From C:\\Users\\INDY\\AppData\\Local\\Packages\\PythonSoftwareFoundation.Python.3.11_qbz5n2kfra8p0\\LocalCache\\local-packages\\Python311\\site-packages\\keras\\src\\backend.py:873: The name tf.get_default_graph is deprecated. Please use tf.compat.v1.get_default_graph instead.\n",
      "\n",
      "Model: \"sequential\"\n",
      "_________________________________________________________________\n",
      " Layer (type)                Output Shape              Param #   \n",
      "=================================================================\n",
      " dense (Dense)               (None, 2)                 6         \n",
      "                                                                 \n",
      " dense_1 (Dense)             (None, 3)                 9         \n",
      "                                                                 \n",
      " dense_2 (Dense)             (None, 3)                 12        \n",
      "                                                                 \n",
      "=================================================================\n",
      "Total params: 27 (108.00 Byte)\n",
      "Trainable params: 27 (108.00 Byte)\n",
      "Non-trainable params: 0 (0.00 Byte)\n",
      "_________________________________________________________________\n"
     ]
    }
   ],
   "source": [
    "# Inisialisasi konstruktor\n",
    "model_dl = Sequential()\n",
    "# Tambahkan lapisan masukan\n",
    "model_dl.add(Dense(2, activation='sigmoid', input_shape=(2,)))\n",
    "# Tambahkan satu lapisan tersembunyi\n",
    "model_dl.add(Dense(3, activation='sigmoid'))\n",
    "# Tambahkan lapisan keluaran\n",
    "model_dl.add(Dense(3, activation='sigmoid'))\n",
    "\n",
    "# Data Latih.\n",
    "X = np.array([\n",
    "    [1, 1],\n",
    "    [0.4, 1.2],\n",
    "    [1.2, 0.1],\n",
    "    [1, 0.1]\n",
    "])\n",
    "\n",
    "# Label untuk Data Latih.\n",
    "y = np.array([\n",
    "    [0.25, 4.31, 0.20],\n",
    "    [0.2, 4.1, 0.1],\n",
    "    [0.1, 4.0, 0],\n",
    "    [0.1, 4.0, 0]\n",
    "])\n",
    "\n",
    "# Ringkasan model\n",
    "model_dl.summary()"
   ]
  },
  {
   "cell_type": "code",
   "execution_count": 21,
   "metadata": {
    "ExecuteTime": {
     "end_time": "2023-06-10T04:04:53.618229900Z",
     "start_time": "2023-06-10T04:04:51.834225700Z"
    }
   },
   "outputs": [
    {
     "name": "stdout",
     "output_type": "stream",
     "text": [
      "WARNING:tensorflow:From C:\\Users\\INDY\\AppData\\Local\\Packages\\PythonSoftwareFoundation.Python.3.11_qbz5n2kfra8p0\\LocalCache\\local-packages\\Python311\\site-packages\\keras\\src\\optimizers\\__init__.py:309: The name tf.train.Optimizer is deprecated. Please use tf.compat.v1.train.Optimizer instead.\n",
      "\n",
      "Epoch 1/100\n",
      "WARNING:tensorflow:From C:\\Users\\INDY\\AppData\\Local\\Packages\\PythonSoftwareFoundation.Python.3.11_qbz5n2kfra8p0\\LocalCache\\local-packages\\Python311\\site-packages\\keras\\src\\utils\\tf_utils.py:492: The name tf.ragged.RaggedTensorValue is deprecated. Please use tf.compat.v1.ragged.RaggedTensorValue instead.\n",
      "\n",
      "WARNING:tensorflow:From C:\\Users\\INDY\\AppData\\Local\\Packages\\PythonSoftwareFoundation.Python.3.11_qbz5n2kfra8p0\\LocalCache\\local-packages\\Python311\\site-packages\\keras\\src\\engine\\base_layer_utils.py:384: The name tf.executing_eagerly_outside_functions is deprecated. Please use tf.compat.v1.executing_eagerly_outside_functions instead.\n",
      "\n",
      "4/4 [==============================] - 1s 4ms/step - loss: 1.3423 - accuracy: 0.0000e+00\n",
      "Epoch 2/100\n",
      "4/4 [==============================] - 0s 541us/step - loss: 1.3252 - accuracy: 0.0000e+00\n",
      "Epoch 3/100\n",
      "4/4 [==============================] - 0s 2ms/step - loss: 1.3082 - accuracy: 0.0000e+00\n",
      "Epoch 4/100\n",
      "4/4 [==============================] - 0s 2ms/step - loss: 1.2915 - accuracy: 0.0000e+00\n",
      "Epoch 5/100\n",
      "4/4 [==============================] - 0s 0s/step - loss: 1.2748 - accuracy: 0.0000e+00\n",
      "Epoch 6/100\n",
      "4/4 [==============================] - 0s 535us/step - loss: 1.2580 - accuracy: 0.0000e+00\n",
      "Epoch 7/100\n",
      "4/4 [==============================] - 0s 3ms/step - loss: 1.2415 - accuracy: 0.0000e+00\n",
      "Epoch 8/100\n",
      "4/4 [==============================] - 0s 4ms/step - loss: 1.2253 - accuracy: 0.0000e+00\n",
      "Epoch 9/100\n",
      "4/4 [==============================] - 0s 5ms/step - loss: 1.2089 - accuracy: 0.0000e+00\n",
      "Epoch 10/100\n",
      "4/4 [==============================] - 0s 0s/step - loss: 1.1927 - accuracy: 0.0000e+00\n",
      "Epoch 11/100\n",
      "4/4 [==============================] - 0s 2ms/step - loss: 1.1766 - accuracy: 0.0000e+00\n",
      "Epoch 12/100\n",
      "4/4 [==============================] - 0s 2ms/step - loss: 1.1608 - accuracy: 0.0000e+00\n",
      "Epoch 13/100\n",
      "4/4 [==============================] - 0s 4ms/step - loss: 1.1450 - accuracy: 0.0000e+00\n",
      "Epoch 14/100\n",
      "4/4 [==============================] - 0s 2ms/step - loss: 1.1293 - accuracy: 0.0000e+00\n",
      "Epoch 15/100\n",
      "4/4 [==============================] - 0s 0s/step - loss: 1.1137 - accuracy: 0.0000e+00\n",
      "Epoch 16/100\n",
      "4/4 [==============================] - 0s 3ms/step - loss: 1.0982 - accuracy: 0.0000e+00\n",
      "Epoch 17/100\n",
      "4/4 [==============================] - 0s 4ms/step - loss: 1.0828 - accuracy: 0.0000e+00\n",
      "Epoch 18/100\n",
      "4/4 [==============================] - 0s 4ms/step - loss: 1.0676 - accuracy: 0.0000e+00\n",
      "Epoch 19/100\n",
      "4/4 [==============================] - 0s 171us/step - loss: 1.0524 - accuracy: 0.0000e+00\n",
      "Epoch 20/100\n",
      "4/4 [==============================] - 0s 1ms/step - loss: 1.0374 - accuracy: 0.0000e+00\n",
      "Epoch 21/100\n",
      "4/4 [==============================] - 0s 3ms/step - loss: 1.0224 - accuracy: 0.0000e+00\n",
      "Epoch 22/100\n",
      "4/4 [==============================] - 0s 3ms/step - loss: 1.0075 - accuracy: 0.0000e+00\n",
      "Epoch 23/100\n",
      "4/4 [==============================] - 0s 4ms/step - loss: 0.9928 - accuracy: 0.2500\n",
      "Epoch 24/100\n",
      "4/4 [==============================] - 0s 2ms/step - loss: 0.9781 - accuracy: 0.5000\n",
      "Epoch 25/100\n",
      "4/4 [==============================] - 0s 0s/step - loss: 0.9635 - accuracy: 0.5000 \n",
      "Epoch 26/100\n",
      "4/4 [==============================] - 0s 2ms/step - loss: 0.9490 - accuracy: 0.7500\n",
      "Epoch 27/100\n",
      "4/4 [==============================] - 0s 4ms/step - loss: 0.9345 - accuracy: 1.0000\n",
      "Epoch 28/100\n",
      "4/4 [==============================] - 0s 3ms/step - loss: 0.9202 - accuracy: 1.0000\n",
      "Epoch 29/100\n",
      "4/4 [==============================] - 0s 1ms/step - loss: 0.9059 - accuracy: 1.0000\n",
      "Epoch 30/100\n",
      "4/4 [==============================] - 0s 3ms/step - loss: 0.8917 - accuracy: 1.0000\n",
      "Epoch 31/100\n",
      "4/4 [==============================] - 0s 2ms/step - loss: 0.8775 - accuracy: 1.0000\n",
      "Epoch 32/100\n",
      "4/4 [==============================] - 0s 3ms/step - loss: 0.8635 - accuracy: 1.0000\n",
      "Epoch 33/100\n",
      "4/4 [==============================] - 0s 3ms/step - loss: 0.8494 - accuracy: 1.0000\n",
      "Epoch 34/100\n",
      "4/4 [==============================] - 0s 1ms/step - loss: 0.8354 - accuracy: 1.0000\n",
      "Epoch 35/100\n",
      "4/4 [==============================] - 0s 6ms/step - loss: 0.8215 - accuracy: 1.0000\n",
      "Epoch 36/100\n",
      "4/4 [==============================] - 0s 3ms/step - loss: 0.8076 - accuracy: 1.0000\n",
      "Epoch 37/100\n",
      "4/4 [==============================] - 0s 0s/step - loss: 0.7938 - accuracy: 1.0000\n",
      "Epoch 38/100\n",
      "4/4 [==============================] - 0s 0s/step - loss: 0.7800 - accuracy: 1.0000\n",
      "Epoch 39/100\n",
      "4/4 [==============================] - 0s 2ms/step - loss: 0.7662 - accuracy: 1.0000\n",
      "Epoch 40/100\n",
      "4/4 [==============================] - 0s 3ms/step - loss: 0.7525 - accuracy: 1.0000\n",
      "Epoch 41/100\n",
      "4/4 [==============================] - 0s 0s/step - loss: 0.7389 - accuracy: 1.0000\n",
      "Epoch 42/100\n",
      "4/4 [==============================] - 0s 4ms/step - loss: 0.7252 - accuracy: 1.0000\n",
      "Epoch 43/100\n",
      "4/4 [==============================] - 0s 4ms/step - loss: 0.7116 - accuracy: 1.0000\n",
      "Epoch 44/100\n",
      "4/4 [==============================] - 0s 3ms/step - loss: 0.6979 - accuracy: 1.0000\n",
      "Epoch 45/100\n",
      "4/4 [==============================] - 0s 2ms/step - loss: 0.6844 - accuracy: 1.0000\n",
      "Epoch 46/100\n",
      "4/4 [==============================] - 0s 4ms/step - loss: 0.6709 - accuracy: 1.0000\n",
      "Epoch 47/100\n",
      "4/4 [==============================] - 0s 5ms/step - loss: 0.6574 - accuracy: 1.0000\n",
      "Epoch 48/100\n",
      "4/4 [==============================] - 0s 0s/step - loss: 0.6439 - accuracy: 1.0000\n",
      "Epoch 49/100\n",
      "4/4 [==============================] - 0s 1ms/step - loss: 0.6304 - accuracy: 1.0000\n",
      "Epoch 50/100\n",
      "4/4 [==============================] - 0s 2ms/step - loss: 0.6169 - accuracy: 1.0000\n",
      "Epoch 51/100\n",
      "4/4 [==============================] - 0s 0s/step - loss: 0.6035 - accuracy: 1.0000\n",
      "Epoch 52/100\n",
      "4/4 [==============================] - 0s 0s/step - loss: 0.5901 - accuracy: 1.0000\n",
      "Epoch 53/100\n",
      "4/4 [==============================] - 0s 3ms/step - loss: 0.5767 - accuracy: 1.0000\n",
      "Epoch 54/100\n",
      "4/4 [==============================] - 0s 10ms/step - loss: 0.5633 - accuracy: 1.0000\n",
      "Epoch 55/100\n",
      "4/4 [==============================] - 0s 0s/step - loss: 0.5499 - accuracy: 1.0000\n",
      "Epoch 56/100\n",
      "4/4 [==============================] - 0s 2ms/step - loss: 0.5365 - accuracy: 1.0000\n",
      "Epoch 57/100\n",
      "4/4 [==============================] - 0s 4ms/step - loss: 0.5233 - accuracy: 1.0000\n",
      "Epoch 58/100\n",
      "4/4 [==============================] - 0s 4ms/step - loss: 0.5099 - accuracy: 1.0000\n",
      "Epoch 59/100\n",
      "4/4 [==============================] - 0s 0s/step - loss: 0.4966 - accuracy: 1.0000\n",
      "Epoch 60/100\n",
      "4/4 [==============================] - 0s 929us/step - loss: 0.4833 - accuracy: 1.0000\n",
      "Epoch 61/100\n",
      "4/4 [==============================] - 0s 4ms/step - loss: 0.4700 - accuracy: 1.0000\n",
      "Epoch 62/100\n",
      "4/4 [==============================] - 0s 4ms/step - loss: 0.4567 - accuracy: 1.0000\n",
      "Epoch 63/100\n",
      "4/4 [==============================] - 0s 4ms/step - loss: 0.4435 - accuracy: 1.0000\n",
      "Epoch 64/100\n",
      "4/4 [==============================] - 0s 836us/step - loss: 0.4301 - accuracy: 1.0000\n",
      "Epoch 65/100\n",
      "4/4 [==============================] - 0s 5ms/step - loss: 0.4169 - accuracy: 1.0000\n",
      "Epoch 66/100\n",
      "4/4 [==============================] - 0s 3ms/step - loss: 0.4037 - accuracy: 1.0000\n",
      "Epoch 67/100\n",
      "4/4 [==============================] - 0s 0s/step - loss: 0.3904 - accuracy: 1.0000\n",
      "Epoch 68/100\n",
      "4/4 [==============================] - 0s 12ms/step - loss: 0.3773 - accuracy: 1.0000\n",
      "Epoch 69/100\n",
      "4/4 [==============================] - 0s 6ms/step - loss: 0.3640 - accuracy: 1.0000\n",
      "Epoch 70/100\n",
      "4/4 [==============================] - 0s 7ms/step - loss: 0.3508 - accuracy: 1.0000\n",
      "Epoch 71/100\n",
      "4/4 [==============================] - 0s 5ms/step - loss: 0.3375 - accuracy: 1.0000\n",
      "Epoch 72/100\n",
      "4/4 [==============================] - 0s 3ms/step - loss: 0.3243 - accuracy: 1.0000\n",
      "Epoch 73/100\n",
      "4/4 [==============================] - 0s 0s/step - loss: 0.3112 - accuracy: 1.0000\n",
      "Epoch 74/100\n",
      "4/4 [==============================] - 0s 3ms/step - loss: 0.2979 - accuracy: 1.0000\n",
      "Epoch 75/100\n",
      "4/4 [==============================] - 0s 4ms/step - loss: 0.2848 - accuracy: 1.0000\n",
      "Epoch 76/100\n",
      "4/4 [==============================] - 0s 1ms/step - loss: 0.2716 - accuracy: 1.0000\n",
      "Epoch 77/100\n",
      "4/4 [==============================] - 0s 0s/step - loss: 0.2584 - accuracy: 1.0000\n",
      "Epoch 78/100\n",
      "4/4 [==============================] - 0s 3ms/step - loss: 0.2452 - accuracy: 1.0000\n",
      "Epoch 79/100\n",
      "4/4 [==============================] - 0s 4ms/step - loss: 0.2320 - accuracy: 1.0000\n",
      "Epoch 80/100\n",
      "4/4 [==============================] - 0s 3ms/step - loss: 0.2189 - accuracy: 1.0000\n",
      "Epoch 81/100\n",
      "4/4 [==============================] - 0s 1ms/step - loss: 0.2057 - accuracy: 1.0000\n",
      "Epoch 82/100\n",
      "4/4 [==============================] - 0s 2ms/step - loss: 0.1925 - accuracy: 1.0000\n",
      "Epoch 83/100\n",
      "4/4 [==============================] - 0s 2ms/step - loss: 0.1793 - accuracy: 1.0000\n",
      "Epoch 84/100\n",
      "4/4 [==============================] - 0s 0s/step - loss: 0.1662 - accuracy: 1.0000\n",
      "Epoch 85/100\n",
      "4/4 [==============================] - 0s 812us/step - loss: 0.1530 - accuracy: 1.0000\n",
      "Epoch 86/100\n",
      "4/4 [==============================] - 0s 5ms/step - loss: 0.1398 - accuracy: 1.0000\n",
      "Epoch 87/100\n",
      "4/4 [==============================] - 0s 3ms/step - loss: 0.1267 - accuracy: 1.0000\n",
      "Epoch 88/100\n",
      "4/4 [==============================] - 0s 3ms/step - loss: 0.1134 - accuracy: 1.0000\n",
      "Epoch 89/100\n",
      "4/4 [==============================] - 0s 4ms/step - loss: 0.1003 - accuracy: 1.0000\n",
      "Epoch 90/100\n",
      "4/4 [==============================] - 0s 3ms/step - loss: 0.0872 - accuracy: 1.0000\n",
      "Epoch 91/100\n",
      "4/4 [==============================] - 0s 2ms/step - loss: 0.0740 - accuracy: 1.0000\n",
      "Epoch 92/100\n",
      "4/4 [==============================] - 0s 1ms/step - loss: 0.0608 - accuracy: 1.0000\n",
      "Epoch 93/100\n",
      "4/4 [==============================] - 0s 6ms/step - loss: 0.0476 - accuracy: 1.0000\n",
      "Epoch 94/100\n",
      "4/4 [==============================] - 0s 5ms/step - loss: 0.0345 - accuracy: 1.0000\n",
      "Epoch 95/100\n",
      "4/4 [==============================] - 0s 3ms/step - loss: 0.0213 - accuracy: 1.0000\n",
      "Epoch 96/100\n",
      "4/4 [==============================] - 0s 4ms/step - loss: 0.0081 - accuracy: 1.0000\n",
      "Epoch 97/100\n",
      "4/4 [==============================] - 0s 970us/step - loss: -0.0050 - accuracy: 1.0000\n",
      "Epoch 98/100\n",
      "4/4 [==============================] - 0s 4ms/step - loss: -0.0182 - accuracy: 1.0000\n",
      "Epoch 99/100\n",
      "4/4 [==============================] - 0s 3ms/step - loss: -0.0314 - accuracy: 1.0000\n",
      "Epoch 100/100\n",
      "4/4 [==============================] - 0s 3ms/step - loss: -0.0445 - accuracy: 1.0000\n"
     ]
    },
    {
     "data": {
      "text/plain": [
       "<keras.src.callbacks.History at 0x224350dd910>"
      ]
     },
     "execution_count": 21,
     "metadata": {},
     "output_type": "execute_result"
    }
   ],
   "source": [
    "model_dl.compile(loss='binary_crossentropy',\n",
    "              optimizer='adam',\n",
    "              metrics=['accuracy'])\n",
    "\n",
    "model_dl.fit(X, y,epochs=100, batch_size=1, verbose=1)"
   ]
  },
  {
   "attachments": {},
   "cell_type": "markdown",
   "metadata": {},
   "source": [
    "### PID Deep Learning Controller"
   ]
  },
  {
   "cell_type": "code",
   "execution_count": 22,
   "metadata": {
    "ExecuteTime": {
     "end_time": "2023-06-10T04:05:07.021750100Z",
     "start_time": "2023-06-10T04:05:07.010021400Z"
    }
   },
   "outputs": [],
   "source": [
    "def pid_dl(sp,pv,pv_last,ierr,dt):\n",
    "\n",
    "    # calculate the error\n",
    "    error = sp-pv\n",
    "    d_error = sp-pv_last\n",
    "    delta_error = (error - d_error)\n",
    "\n",
    "    outDL = model_dl.predict(np.array([[error,delta_error]]))\n",
    "\n",
    "    Kc = outDL[0,0]\n",
    "    tauI = outDL[0,1]\n",
    "    tauD = outDL[0,2]\n",
    "\n",
    "    # Parameters in terms of PID coefficients\n",
    "    KP = Kc\n",
    "    KI = Kc/tauI\n",
    "    KD = Kc*tauD\n",
    "    # ubias for controller (initial heater)\n",
    "    op0 = 0\n",
    "    # upper and lower bounds on heater level\n",
    "    ophi = 100\n",
    "    oplo = 0\n",
    "\n",
    "    # calculate the integral error\n",
    "    ierr = ierr + KI * error * dt\n",
    "    # calculate the measurement derivative\n",
    "    dpv = (pv - pv_last) / dt\n",
    "    # calculate the PID output\n",
    "    P = KP * error\n",
    "    I = ierr\n",
    "    D = -KD * dpv\n",
    "    op = op0 + P + I + D\n",
    "    # implement anti-reset windup\n",
    "    if op < oplo or op > ophi:\n",
    "        I = I - KI * error * dt\n",
    "        # clip output\n",
    "        op = max(oplo,min(ophi,op))\n",
    "    # return the controller output and PID terms\n",
    "    return [op,P,I,D]"
   ]
  },
  {
   "attachments": {},
   "cell_type": "markdown",
   "metadata": {},
   "source": [
    "### SVM PID Controller"
   ]
  },
  {
   "cell_type": "code",
   "execution_count": 74,
   "metadata": {
    "ExecuteTime": {
     "end_time": "2023-06-10T04:25:26.665635100Z",
     "start_time": "2023-06-10T04:25:26.664080600Z"
    }
   },
   "outputs": [],
   "source": [
    "def svm(T1_m, Tsp_m):\n",
    "    # Calculate error (necessary feature for SVM input)\n",
    "    err = Tsp_m - T1_m\n",
    "    # Format data for SVM input\n",
    "    X = np.array([[Tsp_m,err]])\n",
    "    Xs = s_x.transform(X)\n",
    "    # Predict Q for controller and unscale\n",
    "    Q1c_s = model.predict(Xs)\n",
    "    # make q_1c_s back from minmaxscaler\n",
    "    \n",
    "    Q_1 = s_y.inverse_transform([Q1c_s])\n",
    "    Q1c = np.clip(Q_1,0.0,100.0)\n",
    "    return Q1c"
   ]
  },
  {
   "attachments": {},
   "cell_type": "markdown",
   "metadata": {},
   "source": [
    "### Generate SP data for test"
   ]
  },
  {
   "cell_type": "code",
   "execution_count": 24,
   "metadata": {
    "ExecuteTime": {
     "end_time": "2023-06-10T04:25:29.744603200Z",
     "start_time": "2023-06-10T04:25:29.655905800Z"
    }
   },
   "outputs": [
    {
     "data": {
      "image/png": "[encoded data removed]",
      "text/plain": [
       "<Figure size 640x480 with 1 Axes>"
      ]
     },
     "metadata": {},
     "output_type": "display_data"
    }
   ],
   "source": [
    "# Run time in minutes\n",
    "run_time = 6.0\n",
    "\n",
    "# Number of cycles\n",
    "loops = int(60.0 * run_time)\n",
    "\n",
    "# Arrays for storing data\n",
    "T1 = np.zeros(loops)  # Measured T (degC)\n",
    "tm = np.zeros(loops)  # Time\n",
    "Tsp = np.zeros(loops)\n",
    "# Set Tsp to 40°C for 5 minutes\n",
    "Tsp[:300] = 40.0\n",
    "\n",
    "# Leave the rest as the initial value (room temperature)\n",
    "Tsp[300:] = Tsp[0]\n",
    "\n",
    "plt.plot(Tsp)\n",
    "plt.show()"
   ]
  },
  {
   "cell_type": "code",
   "execution_count": 25,
   "metadata": {
    "ExecuteTime": {
     "end_time": "2023-06-10T04:25:32.112003700Z",
     "start_time": "2023-06-10T04:25:32.096228400Z"
    }
   },
   "outputs": [],
   "source": [
    "def step_info(resp, t, set_point):\n",
    "    \"\"\"\n",
    "    Calculates overshoot, settling time, and rising time of a step response.\n",
    "\n",
    "    Parameters:\n",
    "    - resp: numpy array, step response values\n",
    "    - t: numpy array, time vector corresponding to the step response\n",
    "    - set_point: float, the desired set point of the system\n",
    "    \"\"\"\n",
    "\n",
    "    # Calculate overshoot\n",
    "    max_resp = np.max(resp)\n",
    "    overshoot = ((max_resp - set_point) / set_point) * 100\n",
    "\n",
    "    # Calculate settling time\n",
    "    within_range = np.where((resp >= set_point * 0.98) & (resp <= set_point * 1.02))[0]\n",
    "    if len(within_range) > 0:\n",
    "        settling_time = t[within_range[-1]] - t[within_range[0]]\n",
    "    else:\n",
    "        settling_time = np.inf\n",
    "\n",
    "    # Calculate rising time\n",
    "    first_crossing = np.where(resp >= set_point * 0.1)[0][0]\n",
    "    last_crossing = np.where(resp >= set_point * 0.9)[0][0]\n",
    "    rising_time = t[last_crossing] - t[first_crossing]\n",
    "\n",
    "    # Print the results\n",
    "    print(\"Overshoot: {:.2f}%\".format(overshoot))\n",
    "    print(\"Settling Time: {:.2f} seconds\".format(settling_time))\n",
    "    print(\"Rising Time: {:.2f} seconds\".format(rising_time))\n",
    "    return overshoot, settling_time, rising_time"
   ]
  },
  {
   "attachments": {},
   "cell_type": "markdown",
   "metadata": {},
   "source": [
    "# Testing With itclab"
   ]
  },
  {
   "cell_type": "code",
   "execution_count": 28,
   "metadata": {
    "ExecuteTime": {
     "end_time": "2023-06-10T04:51:12.610524700Z",
     "start_time": "2023-06-10T04:51:09.562381300Z"
    }
   },
   "outputs": [
    {
     "name": "stdout",
     "output_type": "stream",
     "text": [
      "Opening connection\n",
      "iTCLab connected via Arduino on port COM3\n",
      "26.08\n",
      "Arduino disconnected successfully\n"
     ]
    },
    {
     "data": {
      "text/plain": [
       "True"
      ]
     },
     "execution_count": 28,
     "metadata": {},
     "output_type": "execute_result"
    }
   ],
   "source": [
    "a = itclab.iTCLab()\n",
    "a.LED(0)\n",
    "print(a.T1)\n",
    "a.close()"
   ]
  },
  {
   "cell_type": "code",
   "execution_count": 45,
   "metadata": {
    "ExecuteTime": {
     "end_time": "2023-06-10T04:57:15.349639500Z",
     "start_time": "2023-06-10T04:51:14.860968400Z"
    }
   },
   "outputs": [
    {
     "name": "stdout",
     "output_type": "stream",
     "text": [
      "Opening connection\n",
      "iTCLab connected via Arduino on port COM3\n",
      "LED On\n",
      "   1.0  40.00  27.73  74.59 \n",
      "   2.0  40.00  27.71  75.70 \n",
      "   3.0  40.00  27.82  76.00 \n",
      "   4.0  40.00  27.67  77.88 \n",
      "   5.0  40.00  27.71  78.62 \n",
      "   6.0  40.00  27.67  79.84 \n",
      "   7.0  40.00  27.69  80.70 \n",
      "   8.0  40.00  27.72  81.50 \n",
      "   9.0  40.00  27.67  82.78 \n",
      "   9.9  40.00  27.77  83.15 \n",
      "  10.9  40.00  27.90  83.33 \n",
      "  11.9  40.00  27.84  84.66 \n",
      "  12.9  40.00  27.83  85.69 \n",
      "  13.9  40.00  28.00  85.62 \n",
      "  14.9  40.00  28.03  86.39 \n",
      "  15.9  40.00  28.09  86.98 \n",
      "  16.9  40.00  28.08  87.98 \n",
      "  17.9  40.00  28.17  88.38 \n",
      "  18.9  40.00  28.21  89.07 \n",
      "  19.9  40.00  28.29  89.52 \n",
      "  20.9  40.00  28.34  90.15 \n",
      "  21.9  40.00  28.40  90.71 \n",
      "  22.8  40.00  28.45  91.33 \n",
      "  23.8  40.00  28.42  92.43 \n",
      "  24.8  40.00  28.57  92.44 \n",
      "  25.8  40.00  28.71  92.50 \n",
      "  26.8  40.00  28.77  93.03 \n",
      "  27.8  40.00  28.86  93.38 \n",
      "  28.8  40.00  28.95  93.72 \n",
      "  29.8  40.00  28.89  94.96 \n",
      "  30.8  40.00  29.01  95.11 \n",
      "  31.8  40.00  29.30  94.22 \n",
      "  32.8  40.00  29.37  94.65 \n",
      "  33.8  40.00  29.46  94.95 \n",
      "  34.8  40.00  29.46  95.79 \n",
      "  35.8  40.00  29.60  95.78 \n",
      "  36.8  40.00  29.72  95.88 \n",
      "  37.8  40.00  29.95  95.30 \n",
      "  38.8  40.00  30.05  95.49 \n",
      "  39.8  40.00  30.24  95.13 \n",
      "  40.8  40.00  30.32  95.42 \n",
      "  41.7  40.00  30.42  95.58 \n",
      "  42.7  40.00  30.45  96.16 \n",
      "  43.7  40.00  30.65  95.70 \n",
      "  44.7  40.00  30.77  95.72 \n",
      "  45.7  40.00  30.91  95.60 \n",
      "  46.7  40.00  31.09  95.23 \n",
      "  47.7  40.00  31.22  95.15 \n",
      "  48.7  40.00  31.27  95.54 \n",
      "  49.7  40.00  31.33  95.87 \n",
      "  50.7  40.00  31.60  94.91 \n",
      "  51.7  40.00  31.67  95.16 \n",
      "  52.7  40.00  31.77  95.21 \n",
      "  53.7  40.00  31.80  95.69 \n",
      "  54.7  40.00  31.74  96.70 \n",
      "  55.7  40.00  31.98  95.90 \n",
      "  56.7  40.00  32.06  96.05 \n",
      "  57.6  40.00  32.27  95.40 \n",
      "  58.6  40.00  32.49  94.68 \n",
      "  59.6  40.00  32.58  94.73 \n",
      "  60.6  40.00  32.64  94.96 \n",
      "  61.6  40.00  32.72  95.05 \n",
      "  62.6  40.00  32.66  96.00 \n",
      "  63.6  40.00  32.87  95.31 \n",
      "  64.6  40.00  32.97  95.26 \n",
      "  65.6  40.00  32.93  96.07 \n",
      "  66.6  40.00  33.23  94.81 \n",
      "  67.6  40.00  33.41  94.25 \n",
      "  68.6  40.00  33.53  94.04 \n",
      "  69.6  40.00  33.56  94.38 \n",
      "  70.6  40.00  33.68  94.16 \n",
      "  71.6  40.00  33.81  93.87 \n",
      "  72.5  40.00  33.93  93.63 \n",
      "  73.5  40.00  34.14  92.83 \n",
      "  74.5  40.00  34.30  92.33 \n",
      "  75.5  40.00  34.38  92.29 \n",
      "  76.5  40.00  34.46  92.25 \n",
      "  77.5  40.00  34.53  92.27 \n",
      "  78.5  40.00  34.49  92.94 \n",
      "  79.5  40.00  34.63  92.53 \n",
      "  80.5  40.00  34.77  92.10 \n",
      "  81.5  40.00  34.84  92.09 \n",
      "  82.5  40.00  35.08  91.04 \n",
      "  83.5  40.00  35.26  90.34 \n",
      "  84.5  40.00  35.46  89.50 \n",
      "  85.4  40.00  35.59  89.07 \n",
      "  86.4  40.00  35.70  88.76 \n",
      "  87.4  40.00  36.02  87.15 \n",
      "  88.4  40.00  36.24  86.13 \n",
      "  89.4  40.00  36.48  84.97 \n",
      "  90.4  40.00  36.60  84.52 \n",
      "  91.4  40.00  36.71  84.12 \n",
      "  92.4  40.00  36.88  83.35 \n",
      "  93.4  40.00  36.86  83.72 \n",
      "  94.4  40.00  37.13  82.33 \n",
      "  95.4  40.00  37.36  81.16 \n",
      "  96.4  40.00  37.58  80.03 \n",
      "  97.4  40.00  37.65  79.80 \n",
      "  98.4  40.00  37.88  78.59 \n",
      "  99.4  40.00  38.00  78.02 \n",
      " 100.4  40.00  38.13  77.39 \n",
      " 101.3  40.00  38.11  77.66 \n",
      " 102.3  40.00  38.09  77.93 \n",
      " 103.3  40.00  38.15  77.72 \n",
      " 104.3  40.00  38.28  77.08 \n",
      " 105.3  40.00  38.49  75.94 \n",
      " 106.3  40.00  38.61  75.33 \n",
      " 107.3  40.00  38.51  76.05 \n",
      " 108.3  40.00  38.49  76.29 \n",
      " 109.3  40.00  38.47  76.53 \n",
      " 110.3  40.00  38.45  76.77 \n",
      " 111.3  40.00  38.59  76.04 \n",
      " 112.3  40.00  38.64  75.85 \n",
      " 113.3  40.00  38.72  75.47 \n",
      " 114.2  40.00  38.74  75.45 \n",
      " 115.2  40.00  38.65  76.10 \n",
      " 116.2  40.00  38.61  76.45 \n",
      " 117.2  40.00  38.71  75.95 \n",
      " 118.2  40.00  38.85  75.20 \n",
      " 119.2  40.00  39.11  73.71 \n",
      " 120.2  40.00  39.16  73.48 \n",
      " 121.2  40.00  39.13  73.73 \n",
      " 122.2  40.00  39.10  73.98 \n",
      " 123.2  40.00  39.21  73.38 \n",
      " 124.2  40.00  39.29  72.96 \n",
      " 125.2  40.00  39.11  74.11 \n",
      " 126.2  40.00  39.21  73.57 \n",
      " 127.2  40.00  39.19  73.76 \n",
      " 128.2  40.00  39.09  74.43 \n",
      " 129.2  40.00  39.12  74.32 \n",
      " 130.1  40.00  39.05  74.82 \n",
      " 131.1  40.00  39.08  74.71 \n",
      " 132.1  40.00  39.10  74.66 \n",
      " 133.1  40.00  39.11  74.67 \n",
      " 134.1  40.00  39.06  75.05 \n",
      " 135.1  40.00  39.43  72.87 \n",
      " 136.1  40.00  39.57  72.07 \n",
      " 137.1  40.00  39.63  71.74 \n",
      " 138.1  40.00  39.81  70.67 \n",
      " 139.1  40.00  39.83  70.56 \n",
      " 140.1  40.00  39.99  69.61 \n",
      " 141.1  40.00  39.97  69.73 \n",
      " 142.1  40.00  40.04  69.30 \n",
      " 143.1  40.00  40.32  67.60 \n",
      " 144.1  40.00  40.60  65.87 \n",
      " 145.1  40.00  40.75  64.91 \n",
      " 146.0  40.00  40.58  65.89 \n",
      " 147.0  40.00  40.64  65.47 \n",
      " 148.0  40.00  40.77  64.63 \n",
      " 149.0  40.00  40.97  63.36 \n",
      " 150.0  40.00  40.82  64.19 \n",
      " 151.0  40.00  40.80  64.25 \n",
      " 152.0  40.00  41.13  62.18 \n",
      " 153.0  40.00  41.29  61.12 \n",
      " 154.0  40.00  41.26  61.20 \n",
      " 155.0  40.00  41.53  59.45 \n",
      " 156.0  40.00  41.69  58.36 \n",
      " 157.0  40.00  41.80  57.56 \n",
      " 158.0  40.00  41.92  56.68 \n",
      " 159.0  40.00  42.05  55.74 \n",
      " 160.0  40.00  41.99  55.94 \n",
      " 160.9  40.00  42.09  55.18 \n",
      " 161.9  40.00  41.97  55.74 \n",
      " 162.9  40.00  41.88  56.13 \n",
      " 163.9  40.00  42.08  54.77 \n",
      " 164.9  40.00  42.09  54.54 \n",
      " 165.9  40.00  42.00  54.92 \n",
      " 166.9  40.00  42.14  53.91 \n",
      " 167.9  40.00  42.44  51.92 \n",
      " 168.9  40.00  42.57  50.93 \n",
      " 169.9  40.00  42.40  51.76 \n",
      " 170.9  40.00  41.95  54.30 \n",
      " 171.9  40.00  41.92  54.33 \n",
      " 172.9  40.00  42.02  53.57 \n",
      " 173.9  40.00  41.95  53.84 \n",
      " 174.9  40.00  42.21  52.10 \n",
      " 175.9  40.00  42.05  52.90 \n",
      " 176.9  40.00  42.04  52.80 \n",
      " 177.8  40.00  41.98  53.00 \n",
      "Arduino disconnected successfully\n"
     ]
    },
    {
     "data": {
      "text/plain": [
       "True"
      ]
     },
     "execution_count": 45,
     "metadata": {},
     "output_type": "execute_result"
    }
   ],
   "source": [
    "a = itclab.iTCLab()\n",
    "print('LED On')\n",
    "a.LED(100)\n",
    "\n",
    "run_times =3\n",
    "loops = int(60.0*run_times)\n",
    "tm = np.zeros(loops)\n",
    "T1 = np.zeros(loops)\n",
    "Tsp = np.zeros(loops)\n",
    "Q1 = np.zeros(loops)\n",
    "# Set point to 40 all the time\n",
    "Tsp[:] = 40\n",
    "\n",
    "start_time = time.time()\n",
    "prev_time = start_time\n",
    "ierr = 0.0\n",
    "try:\n",
    "    for i in range(1,loops):\n",
    "        # Sleep time\n",
    "        sleep_max = 1.0\n",
    "        sleep = sleep_max - (time.time() - prev_time)\n",
    "        if sleep>=0.01:\n",
    "            time.sleep(sleep-0.01)\n",
    "        else:\n",
    "            time.sleep(0.01)\n",
    "\n",
    "        # Record time and change in time\n",
    "        t = time.time()\n",
    "        dt = t - prev_time\n",
    "        prev_time = t\n",
    "        tm[i] = t - start_time\n",
    "\n",
    "        # Read temperatures in C\n",
    "        T1[i] = a.T2\n",
    "\n",
    "        [Q1[i],P,ierr,D] = pid(Tsp[i],T1[i],T1[i-1],ierr,dt)\n",
    "        a.Q2(Q1[i])\n",
    "        a.Q1(0.0)\n",
    "        print(('{:6.1f} {:6.2f} {:6.2f} ' + \\\n",
    "               '{:6.2f} ').format( \\\n",
    "            tm[i],Tsp[i],T1[i], \\\n",
    "            Q1[i]))\n",
    "        # \n",
    "\n",
    "except KeyboardInterrupt:\n",
    "    # Disconnect from Arduino\n",
    "    a.Q1(0)\n",
    "    a.Q2(0)\n",
    "    print('Shutting down')\n",
    "    a.close()\n",
    "\n",
    "\n",
    "# Make sure serial connection still closes when there's an error\n",
    "except:\n",
    "    # Disconnect from Arduino\n",
    "    a.Q1(0)\n",
    "    a.Q2(0)\n",
    "    print('Error: Shutting down')\n",
    "    a.close()\n",
    "\n",
    "    raise\n",
    "\n",
    "a.Q1(0.0)\n",
    "a.Q2(0.0)\n",
    "a.close()"
   ]
  },
  {
   "cell_type": "code",
   "execution_count": 46,
   "metadata": {
    "ExecuteTime": {
     "end_time": "2023-06-10T04:57:15.356046900Z",
     "start_time": "2023-06-10T04:57:15.349639500Z"
    }
   },
   "outputs": [
    {
     "name": "stdout",
     "output_type": "stream",
     "text": [
      "Arduino disconnected successfully\n"
     ]
    },
    {
     "data": {
      "text/plain": [
       "True"
      ]
     },
     "execution_count": 46,
     "metadata": {},
     "output_type": "execute_result"
    }
   ],
   "source": [
    "a.close()"
   ]
  },
  {
   "cell_type": "code",
   "execution_count": 47,
   "metadata": {
    "ExecuteTime": {
     "end_time": "2023-06-10T04:57:15.361991200Z",
     "start_time": "2023-06-10T04:57:15.356046900Z"
    }
   },
   "outputs": [
    {
     "name": "stdout",
     "output_type": "stream",
     "text": [
      "Overshoot: 6.42%\n",
      "Settling Time: 27.82 seconds\n",
      "Rising Time: 86.45 seconds\n"
     ]
    }
   ],
   "source": [
    "[overshoot, settling_time, rise_time] = step_info(T1, tm, Tsp[0])"
   ]
  },
  {
   "cell_type": "code",
   "execution_count": 48,
   "metadata": {
    "ExecuteTime": {
     "end_time": "2023-06-10T04:58:19.424855500Z",
     "start_time": "2023-06-10T04:58:18.124974400Z"
    }
   },
   "outputs": [
    {
     "data": {
      "image/png": "[encoded data removed]",
      "text/plain": [
       "<Figure size 1000x400 with 1 Axes>"
      ]
     },
     "metadata": {},
     "output_type": "display_data"
    }
   ],
   "source": [
    "plt.figure(figsize=(10,4))\n",
    "plt.plot(Tsp[:i],'k-',label='SP $(^oC)$')\n",
    "plt.plot(T1[:i],'r-',label='$T_1$ $(^oC)$')\n",
    "plt.plot(Q1[:i],'g-',label='$Q_{PID}$ (%)')\n",
    "# Add overshoot label\n",
    "plt.text(0.2, -0.2, 'Overshoot: {:.2f} %'.format(overshoot), ha='right', va='center', transform=plt.gca().transAxes, fontsize=12)\n",
    "# add set point label\n",
    "plt.text(0.2, -0.3, 'Set Point: {:.2f} °C'.format(Tsp[0]), ha='right', va='center', transform=plt.gca().transAxes, fontsize=12)\n",
    "\n",
    "\n",
    "# Add rising time annotation\n",
    "plt.axvline(x=rise_time, color='c', linestyle='--', label='Rising Time: {:.2f} seconds'.format(rise_time))\n",
    "# add settling time annotation\n",
    "plt.axvline(x=settling_time, color='m', linestyle='--', label='Settling Time: {:.2f} seconds'.format(settling_time))\n",
    "\n",
    "plt.legend(fontsize=14, bbox_to_anchor=(1.04, 0.5), loc=\"center left\", borderaxespad=0)\n",
    "plt.ylim((0,100))\n",
    "plt.xlabel('Time (s)',size=14)\n",
    "plt.xticks(size=12)\n",
    "plt.yticks(size=12)\n",
    "plt.grid()\n",
    "plt.show()"
   ]
  },
  {
   "cell_type": "code",
   "execution_count": 49,
   "metadata": {
    "ExecuteTime": {
     "end_time": "2023-06-10T04:57:15.552883500Z",
     "start_time": "2023-06-10T04:57:15.544154200Z"
    }
   },
   "outputs": [
    {
     "name": "stdout",
     "output_type": "stream",
     "text": [
      "Arduino disconnected successfully\n"
     ]
    },
    {
     "data": {
      "text/plain": [
       "True"
      ]
     },
     "execution_count": 49,
     "metadata": {},
     "output_type": "execute_result"
    }
   ],
   "source": [
    "a.close()"
   ]
  },
  {
   "cell_type": "code",
   "execution_count": null,
   "metadata": {
    "ExecuteTime": {
     "end_time": "2023-06-09T17:11:15.361067200Z",
     "start_time": "2023-06-09T17:07:15.350286400Z"
    }
   },
   "outputs": [
    {
     "name": "stdout",
     "output_type": "stream",
     "text": [
      "1\n",
      "2\n",
      "3\n",
      "4\n"
     ]
    }
   ],
   "source": [
    "# stop for 3 minutes code\n",
    "for i in range(1,3):\n",
    "    print(i)\n",
    "    time.sleep(60)"
   ]
  },
  {
   "cell_type": "code",
   "execution_count": null,
   "metadata": {
    "ExecuteTime": {
     "end_time": "2023-06-10T05:04:40.173616500Z",
     "start_time": "2023-06-10T05:04:37.128268600Z"
    }
   },
   "outputs": [
    {
     "name": "stdout",
     "output_type": "stream",
     "text": [
      "Opening connection\n",
      "iTCLab connected via Arduino on port COM5\n",
      "30.29\n",
      "Arduino disconnected successfully\n"
     ]
    },
    {
     "data": {
      "text/plain": [
       "True"
      ]
     },
     "execution_count": 110,
     "metadata": {},
     "output_type": "execute_result"
    }
   ],
   "source": [
    "a = itclab.iTCLab()\n",
    "a.LED(0)\n",
    "print(a.T1)\n",
    "a.close()"
   ]
  },
  {
   "cell_type": "code",
   "execution_count": 50,
   "metadata": {
    "ExecuteTime": {
     "end_time": "2023-06-10T05:10:42.579391400Z",
     "start_time": "2023-06-10T05:04:41.371680900Z"
    }
   },
   "outputs": [
    {
     "name": "stdout",
     "output_type": "stream",
     "text": [
      "Opening connection\n",
      "iTCLab connected via Arduino on port COM3\n",
      "LED On\n",
      "1/1 [==============================] - 0s 204ms/step\n",
      "   1.0  40.00  27.83   6.91 \n",
      "1/1 [==============================] - 0s 26ms/step\n",
      "   2.0  40.00  27.81  14.28 \n",
      "1/1 [==============================] - 0s 20ms/step\n",
      "   3.0  40.00  27.80  19.74 \n",
      "1/1 [==============================] - 0s 22ms/step\n",
      "   4.0  40.00  27.88  25.10 \n",
      "1/1 [==============================] - 0s 21ms/step\n",
      "   5.0  40.00  27.74  30.64 \n",
      "1/1 [==============================] - 0s 18ms/step\n",
      "   6.0  40.00  27.81  36.04 \n",
      "1/1 [==============================] - 0s 20ms/step\n",
      "   7.0  40.00  27.80  41.48 \n",
      "1/1 [==============================] - 0s 21ms/step\n",
      "   7.9  40.00  27.84  46.88 \n",
      "1/1 [==============================] - 0s 21ms/step\n",
      "   8.9  40.00  27.72  52.45 \n",
      "1/1 [==============================] - 0s 29ms/step\n",
      "   9.9  40.00  27.86  57.84 \n",
      "1/1 [==============================] - 0s 20ms/step\n",
      "  10.9  40.00  27.78  63.35 \n",
      "1/1 [==============================] - 0s 20ms/step\n",
      "  11.9  40.00  27.82  68.75 \n",
      "1/1 [==============================] - 0s 22ms/step\n",
      "  12.9  40.00  27.73  74.25 \n",
      "1/1 [==============================] - 0s 20ms/step\n",
      "  13.9  40.00  27.88  79.62 \n",
      "1/1 [==============================] - 0s 21ms/step\n",
      "  14.9  40.00  27.96  84.98 \n",
      "1/1 [==============================] - 0s 21ms/step\n",
      "  15.9  40.00  27.97  90.39 \n",
      "1/1 [==============================] - 0s 18ms/step\n",
      "  16.9  40.00  28.06  95.70 \n",
      "1/1 [==============================] - 0s 25ms/step\n",
      "  17.9  40.00  28.00 100.00 \n",
      "1/1 [==============================] - 0s 20ms/step\n",
      "  18.9  40.00  28.03 100.00 \n",
      "1/1 [==============================] - 0s 20ms/step\n",
      "  19.9  40.00  28.15 100.00 \n",
      "1/1 [==============================] - 0s 24ms/step\n",
      "  20.9  40.00  28.23 100.00 \n",
      "1/1 [==============================] - 0s 20ms/step\n",
      "  21.9  40.00  28.31 100.00 \n",
      "1/1 [==============================] - 0s 19ms/step\n",
      "  22.9  40.00  28.37 100.00 \n",
      "1/1 [==============================] - 0s 25ms/step\n",
      "  23.9  40.00  28.47 100.00 \n",
      "1/1 [==============================] - 0s 20ms/step\n",
      "  24.9  40.00  28.52 100.00 \n",
      "1/1 [==============================] - 0s 21ms/step\n",
      "  25.8  40.00  28.38 100.00 \n",
      "1/1 [==============================] - 0s 25ms/step\n",
      "  26.8  40.00  28.73 100.00 \n",
      "1/1 [==============================] - 0s 19ms/step\n",
      "  27.8  40.00  28.74 100.00 \n",
      "1/1 [==============================] - 0s 21ms/step\n",
      "  28.8  40.00  29.05 100.00 \n",
      "1/1 [==============================] - 0s 15ms/step\n",
      "  29.8  40.00  29.01 100.00 \n",
      "1/1 [==============================] - 0s 21ms/step\n",
      "  30.8  40.00  29.17 100.00 \n",
      "1/1 [==============================] - 0s 21ms/step\n",
      "  31.8  40.00  29.21 100.00 \n",
      "1/1 [==============================] - 0s 21ms/step\n",
      "  32.8  40.00  29.29 100.00 \n",
      "1/1 [==============================] - 0s 28ms/step\n",
      "  33.8  40.00  29.42 100.00 \n",
      "1/1 [==============================] - 0s 21ms/step\n",
      "  34.8  40.00  29.53  99.98 \n",
      "1/1 [==============================] - 0s 16ms/step\n",
      "  35.8  40.00  29.57 100.00 \n",
      "1/1 [==============================] - 0s 19ms/step\n",
      "  36.8  40.00  30.00 100.00 \n",
      "1/1 [==============================] - 0s 17ms/step\n",
      "  37.8  40.00  29.77 100.00 \n",
      "1/1 [==============================] - 0s 28ms/step\n",
      "  38.8  40.00  30.02 100.00 \n",
      "1/1 [==============================] - 0s 21ms/step\n",
      "  39.8  40.00  30.26 100.00 \n",
      "1/1 [==============================] - 0s 19ms/step\n",
      "  40.7  40.00  30.32 100.00 \n",
      "1/1 [==============================] - 0s 18ms/step\n",
      "  41.7  40.00  30.50 100.00 \n",
      "1/1 [==============================] - 0s 17ms/step\n",
      "  42.7  40.00  30.62 100.00 \n",
      "1/1 [==============================] - 0s 21ms/step\n",
      "  43.7  40.00  30.71 100.00 \n",
      "1/1 [==============================] - 0s 21ms/step\n",
      "  44.7  40.00  30.76 100.00 \n",
      "1/1 [==============================] - 0s 30ms/step\n",
      "  45.7  40.00  30.82 100.00 \n",
      "1/1 [==============================] - 0s 17ms/step\n",
      "  46.7  40.00  30.97 100.00 \n",
      "1/1 [==============================] - 0s 22ms/step\n",
      "  47.7  40.00  31.04 100.00 \n",
      "1/1 [==============================] - 0s 22ms/step\n",
      "  48.7  40.00  31.17 100.00 \n",
      "1/1 [==============================] - 0s 19ms/step\n",
      "  49.7  40.00  31.11 100.00 \n",
      "1/1 [==============================] - 0s 16ms/step\n",
      "  50.7  40.00  31.17 100.00 \n",
      "1/1 [==============================] - 0s 20ms/step\n",
      "  51.7  40.00  31.35 100.00 \n",
      "1/1 [==============================] - 0s 17ms/step\n",
      "  52.7  40.00  31.42 100.00 \n",
      "1/1 [==============================] - 0s 16ms/step\n",
      "  53.7  40.00  31.53 100.00 \n",
      "1/1 [==============================] - 0s 26ms/step\n",
      "  54.7  40.00  31.69 100.00 \n",
      "1/1 [==============================] - 0s 20ms/step\n",
      "  55.7  40.00  32.38 100.00 \n",
      "1/1 [==============================] - 0s 20ms/step\n",
      "  56.7  40.00  32.11 100.00 \n",
      "1/1 [==============================] - 0s 20ms/step\n",
      "  57.6  40.00  32.36 100.00 \n",
      "1/1 [==============================] - 0s 21ms/step\n",
      "  58.6  40.00  32.43 100.00 \n",
      "1/1 [==============================] - 0s 21ms/step\n",
      "  59.6  40.00  32.44 100.00 \n",
      "1/1 [==============================] - 0s 20ms/step\n",
      "  60.6  40.00  32.54 100.00 \n",
      "1/1 [==============================] - 0s 22ms/step\n",
      "  61.6  40.00  32.79 100.00 \n",
      "1/1 [==============================] - 0s 22ms/step\n",
      "  62.6  40.00  32.96 100.00 \n",
      "1/1 [==============================] - 0s 20ms/step\n",
      "  63.6  40.00  33.66 100.00 \n",
      "1/1 [==============================] - 0s 20ms/step\n",
      "  64.6  40.00  33.03 100.00 \n",
      "1/1 [==============================] - 0s 21ms/step\n",
      "  65.6  40.00  33.04 100.00 \n",
      "1/1 [==============================] - 0s 20ms/step\n",
      "  66.6  40.00  32.98 100.00 \n",
      "1/1 [==============================] - 0s 21ms/step\n",
      "  67.6  40.00  33.38 100.00 \n",
      "1/1 [==============================] - 0s 26ms/step\n",
      "  68.6  40.00  33.51 100.00 \n",
      "1/1 [==============================] - 0s 31ms/step\n",
      "  69.6  40.00  33.54 100.00 \n",
      "1/1 [==============================] - 0s 20ms/step\n",
      "  70.6  40.00  34.35 100.00 \n",
      "1/1 [==============================] - 0s 24ms/step\n",
      "  71.6  40.00  33.69 100.00 \n",
      "1/1 [==============================] - 0s 21ms/step\n",
      "  72.6  40.00  33.61 100.00 \n",
      "1/1 [==============================] - 0s 26ms/step\n",
      "  73.5  40.00  33.74 100.00 \n",
      "1/1 [==============================] - 0s 31ms/step\n",
      "  74.5  40.00  33.96 100.00 \n",
      "1/1 [==============================] - 0s 23ms/step\n",
      "  75.5  40.00  34.14 100.00 \n",
      "1/1 [==============================] - 0s 17ms/step\n",
      "  76.5  40.00  34.41 100.00 \n",
      "1/1 [==============================] - 0s 27ms/step\n",
      "  77.5  40.00  34.55 100.00 \n",
      "1/1 [==============================] - 0s 21ms/step\n",
      "  78.5  40.00  34.63 100.00 \n",
      "1/1 [==============================] - 0s 20ms/step\n",
      "  79.5  40.00  34.85 100.00 \n",
      "1/1 [==============================] - 0s 21ms/step\n",
      "  80.5  40.00  35.00 100.00 \n",
      "1/1 [==============================] - 0s 28ms/step\n",
      "  81.5  40.00  35.12 100.00 \n",
      "1/1 [==============================] - 0s 21ms/step\n",
      "  82.5  40.00  35.28 100.00 \n",
      "1/1 [==============================] - 0s 20ms/step\n",
      "  83.5  40.00  35.27 100.00 \n",
      "1/1 [==============================] - 0s 19ms/step\n",
      "  84.5  40.00  35.21 100.00 \n",
      "1/1 [==============================] - 0s 21ms/step\n",
      "  85.5  40.00  35.20 100.00 \n",
      "1/1 [==============================] - 0s 23ms/step\n",
      "  86.5  40.00  35.07 100.00 \n",
      "1/1 [==============================] - 0s 30ms/step\n",
      "  87.5  40.00  35.33 100.00 \n",
      "1/1 [==============================] - 0s 23ms/step\n",
      "  88.5  40.00  35.59 100.00 \n",
      "1/1 [==============================] - 0s 16ms/step\n",
      "  89.4  40.00  35.67 100.00 \n",
      "1/1 [==============================] - 0s 29ms/step\n",
      "  90.4  40.00  36.05  99.92 \n",
      "1/1 [==============================] - 0s 22ms/step\n",
      "  91.4  40.00  36.29 100.00 \n",
      "1/1 [==============================] - 0s 28ms/step\n",
      "  92.4  40.00  36.35 100.00 \n",
      "1/1 [==============================] - 0s 21ms/step\n",
      "  93.4  40.00  36.57 100.00 \n",
      "1/1 [==============================] - 0s 30ms/step\n",
      "  94.4  40.00  36.67 100.00 \n",
      "1/1 [==============================] - 0s 21ms/step\n",
      "  95.4  40.00  36.71 100.00 \n",
      "1/1 [==============================] - 0s 18ms/step\n",
      "  96.4  40.00  36.83 100.00 \n",
      "1/1 [==============================] - 0s 21ms/step\n",
      "  97.4  40.00  36.73 100.00 \n",
      "1/1 [==============================] - 0s 23ms/step\n",
      "  98.4  40.00  36.68 100.00 \n",
      "1/1 [==============================] - 0s 20ms/step\n",
      "  99.4  40.00  36.82 100.00 \n",
      "1/1 [==============================] - 0s 21ms/step\n",
      " 100.4  40.00  36.76 100.00 \n",
      "1/1 [==============================] - 0s 19ms/step\n",
      " 101.4  40.00  36.83 100.00 \n",
      "1/1 [==============================] - 0s 18ms/step\n",
      " 102.4  40.00  37.52 100.00 \n",
      "1/1 [==============================] - 0s 20ms/step\n",
      " 103.4  40.00  37.13 100.00 \n",
      "1/1 [==============================] - 0s 23ms/step\n",
      " 104.3  40.00  37.09 100.00 \n",
      "1/1 [==============================] - 0s 20ms/step\n",
      " 105.3  40.00  37.15 100.00 \n",
      "1/1 [==============================] - 0s 20ms/step\n",
      " 106.3  40.00  37.25 100.00 \n",
      "1/1 [==============================] - 0s 18ms/step\n",
      " 107.3  40.00  37.12 100.00 \n",
      "1/1 [==============================] - 0s 20ms/step\n",
      " 108.3  40.00  37.11 100.00 \n",
      "1/1 [==============================] - 0s 19ms/step\n",
      " 109.3  40.00  36.99 100.00 \n",
      "1/1 [==============================] - 0s 21ms/step\n",
      " 110.3  40.00  37.41 100.00 \n",
      "1/1 [==============================] - 0s 23ms/step\n",
      " 111.3  40.00  37.56 100.00 \n",
      "1/1 [==============================] - 0s 20ms/step\n",
      " 112.3  40.00  37.67 100.00 \n",
      "1/1 [==============================] - 0s 30ms/step\n",
      " 113.3  40.00  37.83 100.00 \n",
      "1/1 [==============================] - 0s 24ms/step\n",
      " 114.3  40.00  37.94 100.00 \n",
      "1/1 [==============================] - 0s 21ms/step\n",
      " 115.3  40.00  38.19 100.00 \n",
      "1/1 [==============================] - 0s 21ms/step\n",
      " 116.3  40.00  38.25 100.00 \n",
      "1/1 [==============================] - 0s 21ms/step\n",
      " 117.2  40.00  38.26 100.00 \n",
      "1/1 [==============================] - 0s 20ms/step\n",
      " 118.2  40.00  38.18 100.00 \n",
      "1/1 [==============================] - 0s 26ms/step\n",
      " 119.2  40.00  38.43  99.96 \n",
      "1/1 [==============================] - 0s 20ms/step\n",
      " 120.2  40.00  38.60 100.00 \n",
      "1/1 [==============================] - 0s 20ms/step\n",
      " 121.2  40.00  38.80 100.00 \n",
      "1/1 [==============================] - 0s 18ms/step\n",
      " 122.2  40.00  38.93 100.00 \n",
      "1/1 [==============================] - 0s 21ms/step\n",
      " 123.2  40.00  39.09 100.00 \n",
      "1/1 [==============================] - 0s 13ms/step\n",
      " 124.2  40.00  39.05 100.00 \n",
      "1/1 [==============================] - 0s 17ms/step\n",
      " 125.2  40.00  39.22 100.00 \n",
      "1/1 [==============================] - 0s 24ms/step\n",
      " 126.2  40.00  39.34 100.00 \n",
      "1/1 [==============================] - 0s 20ms/step\n",
      " 127.2  40.00  39.49  99.90 \n",
      "1/1 [==============================] - 0s 19ms/step\n",
      " 128.2  40.00  39.56 100.00 \n",
      "1/1 [==============================] - 0s 17ms/step\n",
      " 129.2  40.00  39.51 100.00 \n",
      "1/1 [==============================] - 0s 21ms/step\n",
      " 130.2  40.00  39.41 100.00 \n",
      "1/1 [==============================] - 0s 19ms/step\n",
      " 131.1  40.00  39.48 100.00 \n",
      "1/1 [==============================] - 0s 15ms/step\n",
      " 132.1  40.00  39.45 100.00 \n",
      "1/1 [==============================] - 0s 29ms/step\n",
      " 133.1  40.00  39.45 100.00 \n",
      "1/1 [==============================] - 0s 20ms/step\n",
      " 134.1  40.00  39.37 100.00 \n",
      "1/1 [==============================] - 0s 21ms/step\n",
      " 135.1  40.00  39.33 100.00 \n",
      "1/1 [==============================] - 0s 20ms/step\n",
      " 136.1  40.00  39.27 100.00 \n",
      "1/1 [==============================] - 0s 21ms/step\n",
      " 137.1  40.00  39.36 100.00 \n",
      "1/1 [==============================] - 0s 25ms/step\n",
      " 138.1  40.00  39.69  99.97 \n",
      "1/1 [==============================] - 0s 25ms/step\n",
      " 139.1  40.00  39.65 100.00 \n",
      "1/1 [==============================] - 0s 21ms/step\n",
      " 140.1  40.00  39.57 100.00 \n",
      "1/1 [==============================] - 0s 22ms/step\n",
      " 141.1  40.00  39.59 100.00 \n",
      "1/1 [==============================] - 0s 21ms/step\n",
      " 142.1  40.00  39.25 100.00 \n",
      "1/1 [==============================] - 0s 18ms/step\n",
      " 143.1  40.00  39.24 100.00 \n",
      "1/1 [==============================] - 0s 18ms/step\n",
      " 144.1  40.00  39.40 100.00 \n",
      "1/1 [==============================] - 0s 21ms/step\n",
      " 145.0  40.00  39.48 100.00 \n",
      "1/1 [==============================] - 0s 30ms/step\n",
      " 146.0  40.00  39.59 100.00 \n",
      "1/1 [==============================] - 0s 21ms/step\n",
      " 147.0  40.00  39.68 100.00 \n",
      "1/1 [==============================] - 0s 21ms/step\n",
      " 148.0  40.00  39.72 100.00 \n",
      "1/1 [==============================] - 0s 18ms/step\n",
      " 149.0  40.00  39.89  99.97 \n",
      "1/1 [==============================] - 0s 22ms/step\n",
      " 150.0  40.00  39.89 100.00 \n",
      "1/1 [==============================] - 0s 28ms/step\n",
      " 151.0  40.00  40.13  99.85 \n",
      "1/1 [==============================] - 0s 21ms/step\n",
      " 152.0  40.00  40.38  99.61 \n",
      "1/1 [==============================] - 0s 20ms/step\n",
      " 153.0  40.00  40.66  99.23 \n",
      "1/1 [==============================] - 0s 17ms/step\n",
      " 154.0  40.00  40.73  98.90 \n",
      "1/1 [==============================] - 0s 20ms/step\n",
      " 155.0  40.00  40.84  98.50 \n",
      "1/1 [==============================] - 0s 29ms/step\n",
      " 156.0  40.00  41.08  97.94 \n",
      "1/1 [==============================] - 0s 28ms/step\n",
      " 157.0  40.00  41.12  97.45 \n",
      "1/1 [==============================] - 0s 25ms/step\n",
      " 158.0  40.00  40.94  97.09 \n",
      "1/1 [==============================] - 0s 19ms/step\n",
      " 159.0  40.00  40.91  96.68 \n",
      "1/1 [==============================] - 0s 21ms/step\n",
      " 160.0  40.00  41.28  95.99 \n",
      "1/1 [==============================] - 0s 20ms/step\n",
      " 160.9  40.00  41.35  95.39 \n",
      "1/1 [==============================] - 0s 19ms/step\n",
      " 161.9  40.00  41.44  94.72 \n",
      "1/1 [==============================] - 0s 18ms/step\n",
      " 162.9  40.00  41.28  94.21 \n",
      "1/1 [==============================] - 0s 21ms/step\n",
      " 163.9  40.00  41.39  93.55 \n",
      "1/1 [==============================] - 0s 19ms/step\n",
      " 164.9  40.00  41.46  92.88 \n",
      "1/1 [==============================] - 0s 24ms/step\n",
      " 165.9  40.00  41.47  92.23 \n",
      "1/1 [==============================] - 0s 18ms/step\n",
      " 166.9  40.00  42.04  91.13 \n",
      "1/1 [==============================] - 0s 21ms/step\n",
      " 167.9  40.00  41.59  90.60 \n",
      "1/1 [==============================] - 0s 31ms/step\n",
      " 168.9  40.00  41.41  90.01 \n",
      "1/1 [==============================] - 0s 24ms/step\n",
      " 169.9  40.00  41.63  89.19 \n",
      "1/1 [==============================] - 0s 20ms/step\n",
      " 170.9  40.00  41.95  88.23 \n",
      "1/1 [==============================] - 0s 20ms/step\n",
      " 171.9  40.00  42.00  87.34 \n",
      "1/1 [==============================] - 0s 21ms/step\n",
      " 172.9  40.00  42.35  86.18 \n",
      "1/1 [==============================] - 0s 19ms/step\n",
      " 173.9  40.00  42.47  85.06 \n",
      "1/1 [==============================] - 0s 21ms/step\n",
      " 174.9  40.00  42.61  83.85 \n",
      "1/1 [==============================] - 0s 20ms/step\n",
      " 175.9  40.00  42.67  82.64 \n",
      "1/1 [==============================] - 0s 20ms/step\n",
      " 176.8  40.00  42.83  81.33 \n",
      "1/1 [==============================] - 0s 26ms/step\n",
      " 177.8  40.00  43.08  79.89 \n",
      "Arduino disconnected successfully\n"
     ]
    },
    {
     "data": {
      "text/plain": [
       "True"
      ]
     },
     "execution_count": 50,
     "metadata": {},
     "output_type": "execute_result"
    }
   ],
   "source": [
    "a = itclab.iTCLab()\n",
    "print('LED On')\n",
    "a.LED(100)\n",
    "run_times = 3\n",
    "loops = int(60.0*run_times)\n",
    "tm = np.zeros(loops)\n",
    "T1 = np.zeros(loops)\n",
    "Tsp = np.zeros(loops)\n",
    "Q1 = np.zeros(loops)\n",
    "# Set point to 40 all the time\n",
    "Tsp[:] = 40\n",
    "\n",
    "start_time = time.time()\n",
    "prev_time = start_time\n",
    "ierr = 0.0\n",
    "try:\n",
    "    for i in range(1,loops):\n",
    "        # Sleep time\n",
    "        sleep_max = 1.0\n",
    "        sleep = sleep_max - (time.time() - prev_time)\n",
    "        if sleep>=0.01:\n",
    "            time.sleep(sleep-0.01)\n",
    "        else:\n",
    "            time.sleep(0.01)\n",
    "\n",
    "        # Record time and change in time\n",
    "        t = time.time()\n",
    "        dt = t - prev_time\n",
    "        prev_time = t\n",
    "        tm[i] = t - start_time\n",
    "\n",
    "        # Read temperatures in C\n",
    "        T1[i] = a.T2\n",
    "\n",
    "        [Q1[i],P,ierr,D] = pid_dl(Tsp[i],T1[i],T1[i-1],ierr,dt)\n",
    "\n",
    "        a.Q2(Q1[i])\n",
    "        a.Q1(0.0)\n",
    "        print(('{:6.1f} {:6.2f} {:6.2f} ' + \\\n",
    "               '{:6.2f} ').format( \\\n",
    "            tm[i],Tsp[i],T1[i], \\\n",
    "            Q1[i]))\n",
    "\n",
    "except KeyboardInterrupt:\n",
    "    # Disconnect from Arduino\n",
    "    a.Q1(0)\n",
    "    a.Q2(0)\n",
    "    print('Shutting down')\n",
    "    a.close()\n",
    "\n",
    "\n",
    "# Make sure serial connection still closes when there's an error\n",
    "except:\n",
    "    # Disconnect from Arduino\n",
    "    a.Q1(0)\n",
    "    a.Q2(0)\n",
    "    print('Error: Shutting down')\n",
    "    a.close()\n",
    "\n",
    "    raise\n",
    "\n",
    "a.close()"
   ]
  },
  {
   "cell_type": "code",
   "execution_count": 51,
   "metadata": {
    "ExecuteTime": {
     "end_time": "2023-06-10T05:10:45.616684100Z",
     "start_time": "2023-06-10T05:10:42.579391400Z"
    }
   },
   "outputs": [
    {
     "name": "stdout",
     "output_type": "stream",
     "text": [
      "Arduino disconnected successfully\n",
      "Opening connection\n",
      "iTCLab connected via Arduino on port COM3\n",
      "Arduino disconnected successfully\n"
     ]
    },
    {
     "data": {
      "text/plain": [
       "True"
      ]
     },
     "execution_count": 51,
     "metadata": {},
     "output_type": "execute_result"
    }
   ],
   "source": [
    "a.close()\n",
    "a = itclab.iTCLab()\n",
    "a.LED(0)\n",
    "a.close()"
   ]
  },
  {
   "cell_type": "code",
   "execution_count": null,
   "metadata": {
    "ExecuteTime": {
     "end_time": "2023-06-10T05:10:45.622986800Z",
     "start_time": "2023-06-10T05:10:45.616684100Z"
    }
   },
   "outputs": [
    {
     "name": "stdout",
     "output_type": "stream",
     "text": [
      "Arduino disconnected successfully\n"
     ]
    },
    {
     "data": {
      "text/plain": [
       "True"
      ]
     },
     "execution_count": 113,
     "metadata": {},
     "output_type": "execute_result"
    }
   ],
   "source": [
    "a.close()"
   ]
  },
  {
   "cell_type": "code",
   "execution_count": 52,
   "metadata": {
    "ExecuteTime": {
     "end_time": "2023-06-10T05:10:45.631038400Z",
     "start_time": "2023-06-10T05:10:45.622986800Z"
    }
   },
   "outputs": [
    {
     "name": "stdout",
     "output_type": "stream",
     "text": [
      "Overshoot: 7.70%\n",
      "Settling Time: 28.79 seconds\n",
      "Rising Time: 89.45 seconds\n"
     ]
    }
   ],
   "source": [
    "[overshoot, settling_time, rise_time] = step_info(T1, tm, Tsp[0])"
   ]
  },
  {
   "cell_type": "code",
   "execution_count": 53,
   "metadata": {
    "ExecuteTime": {
     "end_time": "2023-06-10T05:10:45.794422800Z",
     "start_time": "2023-06-10T05:10:45.631038400Z"
    }
   },
   "outputs": [
    {
     "data": {
      "image/png": "[encoded data removed]",
      "text/plain": [
       "<Figure size 1000x400 with 1 Axes>"
      ]
     },
     "metadata": {},
     "output_type": "display_data"
    }
   ],
   "source": [
    "plt.figure(figsize=(10,4))\n",
    "plt.plot(Tsp[:i],'k-',label='SP $(^oC)$')\n",
    "plt.plot(T1[:i],'r-',label='$T_1$ $(^oC)$')\n",
    "plt.plot(Q1[:i],'g-',label='$Q_{DL}$ (%)')\n",
    "# Add overshoot label\n",
    "plt.text(0.2, -0.2, 'Overshoot: {:.2f} %'.format(overshoot), ha='right', va='center', transform=plt.gca().transAxes, fontsize=12)\n",
    "# add set point label\n",
    "plt.text(0.2, -0.3, 'Set Point: {:.2f} °C'.format(Tsp[0]), ha='right', va='center', transform=plt.gca().transAxes, fontsize=12)\n",
    "\n",
    "\n",
    "# Add rising time annotation\n",
    "plt.axvline(x=rise_time, color='c', linestyle='--', label='Rising Time: {:.2f} seconds'.format(rise_time))\n",
    "# add settling time annotation\n",
    "plt.axvline(x=settling_time, color='m', linestyle='--', label='Settling Time: {:.2f} seconds'.format(settling_time))\n",
    "\n",
    "plt.legend(fontsize=14, bbox_to_anchor=(1.04, 0.5), loc=\"center left\", borderaxespad=0)\n",
    "plt.ylim((0,100))\n",
    "plt.xlabel('Time (s)',size=14)\n",
    "plt.xticks(size=12)\n",
    "plt.yticks(size=12)\n",
    "plt.grid()\n",
    "plt.show()"
   ]
  },
  {
   "cell_type": "code",
   "execution_count": null,
   "metadata": {
    "ExecuteTime": {
     "end_time": "2023-06-10T05:44:29.471058600Z",
     "start_time": "2023-06-10T05:44:26.430629Z"
    }
   },
   "outputs": [
    {
     "name": "stdout",
     "output_type": "stream",
     "text": [
      "Arduino disconnected successfully\n",
      "Opening connection\n",
      "iTCLab connected via Arduino on port COM5\n",
      "30.4\n",
      "Arduino disconnected successfully\n"
     ]
    },
    {
     "data": {
      "text/plain": [
       "True"
      ]
     },
     "execution_count": 151,
     "metadata": {},
     "output_type": "execute_result"
    }
   ],
   "source": [
    "a.close()\n",
    "a = itclab.iTCLab()\n",
    "print(a.T1)\n",
    "a.LED(0)\n",
    "a.close()"
   ]
  },
  {
   "cell_type": "code",
   "execution_count": null,
   "metadata": {
    "ExecuteTime": {
     "end_time": "2023-06-10T05:44:07.182709100Z",
     "start_time": "2023-06-10T05:42:07.182323200Z"
    }
   },
   "outputs": [
    {
     "name": "stdout",
     "output_type": "stream",
     "text": [
      "1\n",
      "2\n"
     ]
    }
   ],
   "source": [
    "# stop for 3 minutes code\n",
    "for i in range(1,3):\n",
    "    print(i)\n",
    "    time.sleep(60)"
   ]
  },
  {
   "cell_type": "code",
   "execution_count": 75,
   "metadata": {
    "ExecuteTime": {
     "end_time": "2023-06-10T05:50:41.323558400Z",
     "start_time": "2023-06-10T05:44:39.801704Z"
    }
   },
   "outputs": [
    {
     "name": "stdout",
     "output_type": "stream",
     "text": [
      "Opening connection\n",
      "iTCLab connected via Arduino on port COM3\n",
      "LED On\n",
      "   1.0  40.00  25.97  86.39 \n",
      "   2.0  40.00  25.96  86.42 \n",
      "   3.0  40.00  25.91  86.58 \n",
      "   4.0  40.00  26.03  86.20 \n",
      "   5.0  40.00  26.06  86.10 \n",
      "   6.0  40.00  25.99  86.32 \n",
      "   7.0  40.00  26.57  84.46 \n",
      "   8.0  40.00  26.11  85.94 \n",
      "   9.0  40.00  26.15  85.81 \n",
      "  10.0  40.00  26.18  85.72 \n",
      "  11.0  40.00  26.27  85.43 \n",
      "  11.9  40.00  26.22  85.59 \n",
      "  12.9  40.00  26.27  85.43 \n",
      "  13.9  40.00  26.33  85.24 \n",
      "  14.9  40.00  26.37  85.11 \n",
      "  15.9  40.00  26.45  84.85 \n",
      "  16.9  40.00  26.41  84.98 \n",
      "  17.9  40.00  26.50  84.69 \n",
      "  18.9  40.00  26.66  84.17 \n",
      "  19.9  40.00  26.74  83.91 \n",
      "  20.9  40.00  26.67  84.14 \n",
      "  21.9  40.00  26.89  83.43 \n",
      "  22.9  40.00  27.07  82.84 \n",
      "  23.9  40.00  27.04  82.94 \n",
      "  24.9  40.00  27.18  82.48 \n",
      "  25.9  40.00  27.27  82.19 \n",
      "  26.9  40.00  27.37  81.86 \n",
      "  27.9  40.00  27.42  81.70 \n",
      "  28.9  40.00  27.59  81.14 \n",
      "  29.9  40.00  27.68  80.84 \n",
      "  30.9  40.00  27.68  80.84 \n",
      "  31.9  40.00  27.88  80.18 \n",
      "  32.9  40.00  27.93  80.02 \n",
      "  33.9  40.00  27.96  79.92 \n",
      "  34.9  40.00  28.19  79.15 \n",
      "  35.9  40.00  28.33  78.69 \n",
      "  36.9  40.00  28.39  78.48 \n",
      "  37.9  40.00  28.45  78.28 \n",
      "  38.8  40.00  28.57  77.88 \n",
      "  39.8  40.00  28.61  77.75 \n",
      "  40.8  40.00  28.71  77.41 \n",
      "  41.8  40.00  28.74  77.31 \n",
      "  42.8  40.00  29.04  76.30 \n",
      "  43.8  40.00  29.14  75.96 \n",
      "  44.8  40.00  29.18  75.83 \n",
      "  45.8  40.00  29.37  75.18 \n",
      "  46.8  40.00  29.40  75.08 \n",
      "  47.8  40.00  29.53  74.64 \n",
      "  48.8  40.00  29.77  73.82 \n",
      "  49.8  40.00  29.80  73.72 \n",
      "  50.8  40.00  29.95  73.21 \n",
      "  51.8  40.00  30.16  72.49 \n",
      "  52.8  40.00  30.19  72.38 \n",
      "  53.8  40.00  30.31  71.97 \n",
      "  54.8  40.00  30.48  71.39 \n",
      "  55.8  40.00  30.62  70.90 \n",
      "  56.8  40.00  30.71  70.59 \n",
      "  57.8  40.00  30.74  70.49 \n",
      "  58.8  40.00  30.88  70.00 \n",
      "  59.8  40.00  31.11  69.20 \n",
      "  60.8  40.00  31.17  69.00 \n",
      "  61.8  40.00  31.49  67.88 \n",
      "  62.8  40.00  31.47  67.95 \n",
      "  63.8  40.00  31.50  67.85 \n",
      "  64.8  40.00  31.51  67.81 \n",
      "  65.8  40.00  31.62  67.43 \n",
      "  66.8  40.00  31.85  66.62 \n",
      "  67.8  40.00  32.04  65.95 \n",
      "  68.8  40.00  32.20  65.39 \n",
      "  69.7  40.00  32.21  65.36 \n",
      "  70.7  40.00  32.40  64.69 \n",
      "  71.7  40.00  32.61  63.94 \n",
      "  72.7  40.00  32.86  63.06 \n",
      "  73.7  40.00  32.83  63.17 \n",
      "  74.7  40.00  32.89  62.95 \n",
      "  75.7  40.00  33.15  62.03 \n",
      "  76.7  40.00  33.43  61.03 \n",
      "  77.7  40.00  33.48  60.86 \n",
      "  78.7  40.00  33.56  60.57 \n",
      "  79.7  40.00  33.70  60.07 \n",
      "  80.7  40.00  33.78  59.78 \n",
      "  81.7  40.00  33.79  59.75 \n",
      "  82.7  40.00  33.66  60.21 \n",
      "  83.7  40.00  33.94  59.21 \n",
      "  84.7  40.00  34.15  58.46 \n",
      "  85.7  40.00  34.85  55.95 \n",
      "  86.7  40.00  34.58  56.92 \n",
      "  87.7  40.00  34.56  56.99 \n",
      "  88.7  40.00  34.53  57.10 \n",
      "  89.6  40.00  34.61  56.81 \n",
      "  90.6  40.00  34.96  55.55 \n",
      "  91.6  40.00  35.01  55.37 \n",
      "  92.6  40.00  35.24  54.54 \n",
      "  93.6  40.00  35.45  53.78 \n",
      "  94.6  40.00  35.38  54.04 \n",
      "  95.6  40.00  35.51  53.57 \n",
      "  96.6  40.00  35.43  53.86 \n",
      "  97.6  40.00  35.60  53.24 \n",
      "  98.6  40.00  35.83  52.41 \n",
      "  99.6  40.00  35.94  52.01 \n",
      " 100.6  40.00  35.92  52.08 \n",
      " 101.6  40.00  35.91  52.12 \n",
      " 102.6  40.00  36.06  51.58 \n",
      " 103.6  40.00  36.27  50.81 \n",
      " 104.6  40.00  36.55  49.80 \n",
      " 105.6  40.00  36.66  49.40 \n",
      " 106.6  40.00  36.86  48.67 \n",
      " 107.6  40.00  37.02  48.09 \n",
      " 108.6  40.00  37.20  47.44 \n",
      " 109.6  40.00  37.47  46.45 \n",
      " 110.6  40.00  37.55  46.16 \n",
      " 111.6  40.00  37.61  45.94 \n",
      " 112.6  40.00  37.64  45.83 \n",
      " 113.6  40.00  37.61  45.94 \n",
      " 114.6  40.00  37.59  46.02 \n",
      " 115.6  40.00  37.75  45.43 \n",
      " 116.5  40.00  37.91  44.85 \n",
      " 117.5  40.00  38.04  44.38 \n",
      " 118.5  40.00  38.75  41.79 \n",
      " 119.5  40.00  38.39  43.10 \n",
      " 120.5  40.00  38.47  42.81 \n",
      " 121.5  40.00  38.69  42.01 \n",
      " 122.5  40.00  38.83  41.50 \n",
      " 123.5  40.00  38.85  41.42 \n",
      " 124.5  40.00  38.69  42.01 \n",
      " 125.5  40.00  38.88  41.31 \n",
      " 126.5  40.00  39.01  40.84 \n",
      " 127.5  40.00  39.15  40.33 \n",
      " 128.5  40.00  39.12  40.44 \n",
      " 129.5  40.00  39.13  40.40 \n",
      " 130.5  40.00  39.18  40.22 \n",
      " 131.5  40.00  39.11  40.48 \n",
      " 132.5  40.00  39.05  40.69 \n",
      " 133.5  40.00  38.88  41.31 \n",
      " 134.5  40.00  39.02  40.80 \n",
      " 135.5  40.00  39.10  40.51 \n",
      " 136.5  40.00  39.07  40.62 \n",
      " 137.5  40.00  39.20  40.15 \n",
      " 138.5  40.00  39.23  40.04 \n",
      " 139.5  40.00  39.29  39.82 \n",
      " 140.5  40.00  39.57  38.80 \n",
      " 141.4  40.00  39.75  38.14 \n",
      " 142.4  40.00  39.75  38.14 \n",
      " 143.4  40.00  39.69  38.36 \n",
      " 144.4  40.00  39.75  38.14 \n",
      " 145.4  40.00  39.97  37.34 \n",
      " 146.4  40.00  40.22  36.43 \n",
      " 147.4  40.00  40.40  35.77 \n",
      " 148.4  40.00  40.42  35.70 \n",
      " 149.4  40.00  40.34  35.99 \n",
      " 150.4  40.00  40.48  35.48 \n",
      " 151.4  40.00  40.54  35.26 \n",
      " 152.4  40.00  40.68  34.76 \n",
      " 153.4  40.00  40.71  34.65 \n",
      " 154.4  40.00  40.56  35.19 \n",
      " 155.4  40.00  40.74  34.54 \n",
      " 156.4  40.00  40.62  34.97 \n",
      " 157.4  40.00  40.58  35.12 \n",
      " 158.3  40.00  40.66  34.83 \n",
      " 159.3  40.00  40.65  34.86 \n",
      " 160.3  40.00  40.71  34.65 \n",
      " 161.4  40.00  40.73  34.57 \n",
      " 162.3  40.00  40.88  34.03 \n",
      " 163.3  40.00  40.80  34.32 \n",
      " 164.3  40.00  40.76  34.46 \n",
      " 165.3  40.00  41.20  32.86 \n",
      " 166.3  40.00  41.49  31.81 \n",
      " 167.3  40.00  41.62  31.34 \n",
      " 168.3  40.00  41.86  30.47 \n",
      " 169.3  40.00  42.10  29.60 \n",
      " 170.3  40.00  42.01  29.93 \n",
      " 171.3  40.00  42.11  29.56 \n",
      " 172.3  40.00  42.27  28.99 \n",
      " 173.3  40.00  42.56  27.94 \n",
      " 174.3  40.00  42.61  27.76 \n",
      " 175.3  40.00  42.72  27.36 \n",
      " 176.3  40.00  42.61  27.76 \n",
      " 177.3  40.00  42.62  27.72 \n",
      " 178.2  40.00  42.89  26.75 \n",
      "Arduino disconnected successfully\n"
     ]
    },
    {
     "data": {
      "text/plain": [
       "True"
      ]
     },
     "execution_count": 75,
     "metadata": {},
     "output_type": "execute_result"
    }
   ],
   "source": [
    "a = itclab.iTCLab()\n",
    "print('LED On')\n",
    "a.LED(100)\n",
    "run_times = 3\n",
    "loops = int(60.0*run_times)\n",
    "tm = np.zeros(loops)\n",
    "T1 = np.zeros(loops)\n",
    "Tsp = np.zeros(loops)\n",
    "Q1 = np.zeros(loops)\n",
    "# Set point to 40 all the time\n",
    "Tsp[:] = 40\n",
    "\n",
    "start_time = time.time()\n",
    "prev_time = start_time\n",
    "ierr = 0.0\n",
    "try:\n",
    "    for i in range(1,loops):\n",
    "        # Sleep time\n",
    "        sleep_max = 1.0\n",
    "        sleep = sleep_max - (time.time() - prev_time)\n",
    "        if sleep>=0.01:\n",
    "            time.sleep(sleep-0.01)\n",
    "        else:\n",
    "            time.sleep(0.01)\n",
    "\n",
    "        # Record time and change in time\n",
    "        t = time.time()\n",
    "        dt = t - prev_time\n",
    "        prev_time = t\n",
    "        tm[i] = t - start_time\n",
    "\n",
    "        # Read temperatures in C\n",
    "        T1[i] = a.T2\n",
    "        Q1[i] = svm(T1[i],Tsp[i])\n",
    "        a.Q2(Q1[i])\n",
    "        a.Q1(0.0)\n",
    "        print(('{:6.1f} {:6.2f} {:6.2f} ' + \\\n",
    "               '{:6.2f} ').format( \\\n",
    "            tm[i],Tsp[i],T1[i], \\\n",
    "            Q1[i]))\n",
    "\n",
    "except KeyboardInterrupt:\n",
    "    # Disconnect from Arduino\n",
    "    a.Q1(0)\n",
    "    a.Q2(0)\n",
    "    print('Shutting down')\n",
    "    a.close()\n",
    "\n",
    "\n",
    "# Make sure serial connection still closes when there's an error\n",
    "except:\n",
    "    # Disconnect from Arduino\n",
    "    a.Q1(0)\n",
    "    a.Q2(0)\n",
    "    print('Error: Shutting down')\n",
    "    a.close()\n",
    "\n",
    "    raise\n",
    "\n",
    "a.close()"
   ]
  },
  {
   "cell_type": "code",
   "execution_count": 76,
   "metadata": {
    "ExecuteTime": {
     "end_time": "2023-06-10T05:50:44.883920800Z",
     "start_time": "2023-06-10T05:50:44.880646100Z"
    }
   },
   "outputs": [
    {
     "name": "stdout",
     "output_type": "stream",
     "text": [
      "Arduino disconnected successfully\n"
     ]
    },
    {
     "data": {
      "text/plain": [
       "True"
      ]
     },
     "execution_count": 76,
     "metadata": {},
     "output_type": "execute_result"
    }
   ],
   "source": [
    "a.close()"
   ]
  },
  {
   "cell_type": "code",
   "execution_count": 77,
   "metadata": {
    "ExecuteTime": {
     "end_time": "2023-06-10T05:50:46.032607400Z",
     "start_time": "2023-06-10T05:50:46.016617Z"
    }
   },
   "outputs": [
    {
     "name": "stdout",
     "output_type": "stream",
     "text": [
      "Overshoot: 7.23%\n",
      "Settling Time: 26.87 seconds\n",
      "Rising Time: 101.59 seconds\n"
     ]
    }
   ],
   "source": [
    "[overshoot, settling_time, rise_time] = step_info(T1, tm, Tsp[0])"
   ]
  },
  {
   "cell_type": "code",
   "execution_count": 79,
   "metadata": {
    "ExecuteTime": {
     "end_time": "2023-06-10T05:53:13.778464600Z",
     "start_time": "2023-06-10T05:53:13.615736Z"
    }
   },
   "outputs": [
    {
     "data": {
      "image/png": "[encoded data removed]",
      "text/plain": [
       "<Figure size 1000x400 with 1 Axes>"
      ]
     },
     "metadata": {},
     "output_type": "display_data"
    }
   ],
   "source": [
    "plt.figure(figsize=(10,4))\n",
    "plt.plot(Tsp[:i],'k-',label='SP $(^oC)$')\n",
    "plt.plot(T1[:i],'r-',label='$T_1$ $(^oC)$')\n",
    "plt.plot(Q1[:i],'g-',label='$Q_{SVM}$ (%)')\n",
    "# Add overshoot label\n",
    "plt.text(0.2, -0.2, 'Overshoot: {:.2f} %'.format(overshoot), ha='right', va='center', transform=plt.gca().transAxes, fontsize=12)\n",
    "# add set point label\n",
    "plt.text(0.2, -0.3, 'Set Point: {:.2f} °C'.format(Tsp[0]), ha='right', va='center', transform=plt.gca().transAxes, fontsize=12)\n",
    "\n",
    "\n",
    "# Add rising time annotation\n",
    "plt.axvline(x=rise_time, color='c', linestyle='--', label='Rising Time: {:.2f} seconds'.format(rise_time))\n",
    "# add settling time annotation\n",
    "plt.axvline(x=settling_time, color='m', linestyle='--', label='Settling Time: {:.2f} seconds'.format(settling_time))\n",
    "\n",
    "plt.legend(fontsize=14, bbox_to_anchor=(1.04, 0.5), loc=\"center left\", borderaxespad=0)\n",
    "plt.ylim((0,100))\n",
    "plt.xlabel('Time (s)',size=14)\n",
    "plt.xticks(size=12)\n",
    "plt.yticks(size=12)\n",
    "plt.grid()\n",
    "plt.show()"
   ]
  },
  {
   "cell_type": "code",
   "execution_count": 80,
   "metadata": {},
   "outputs": [],
   "source": [
    "# save model svm\n",
    "import pickle\n",
    "filename = 'svm_model.pkl'\n",
    "pickle.dump(model, open(filename, 'wb'))"
   ]
  },
  {
   "cell_type": "code",
   "execution_count": 81,
   "metadata": {},
   "outputs": [],
   "source": [
    "# save x and y scaler\n",
    "filename = 'scaler_x.pkl'\n",
    "pickle.dump(s_x, open(filename, 'wb'))\n",
    "filename = 'scaler_y.pkl'\n",
    "pickle.dump(s_y, open(filename, 'wb'))"
   ]
  }
 ],
 "metadata": {
  "hide_input": false,
  "kernelspec": {
   "display_name": "Python 3 (ipykernel)",
   "language": "python",
   "name": "python3"
  },
  "language_info": {
   "codemirror_mode": {
    "name": "ipython",
    "version": 3
   },
   "file_extension": ".py",
   "mimetype": "text/x-python",
   "name": "python",
   "nbconvert_exporter": "python",
   "pygments_lexer": "ipython3",
   "version": "3.11.6"
  }
 },
 "nbformat": 4,
 "nbformat_minor": 4
}
